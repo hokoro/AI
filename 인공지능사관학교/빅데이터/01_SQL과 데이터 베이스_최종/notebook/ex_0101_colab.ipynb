{
  "nbformat": 4,
  "nbformat_minor": 0,
  "metadata": {
    "kernelspec": {
      "display_name": "Python 3",
      "language": "python",
      "name": "python3"
    },
    "language_info": {
      "codemirror_mode": {
        "name": "ipython",
        "version": 3
      },
      "file_extension": ".py",
      "mimetype": "text/x-python",
      "name": "python",
      "nbconvert_exporter": "python",
      "pygments_lexer": "ipython3",
      "version": "3.8.5"
    },
    "colab": {
      "name": "ex_0101_colab.ipynb",
      "provenance": [],
      "collapsed_sections": []
    }
  },
  "cells": [
    {
      "cell_type": "markdown",
      "metadata": {
        "id": "7CfVZ3Jga6gf"
      },
      "source": [
        "### SQLite 데이터 베이스 Python으로 접속"
      ]
    },
    {
      "cell_type": "code",
      "metadata": {
        "id": "uhgqmL-va6gf"
      },
      "source": [
        "import sqlite3\n",
        "import os"
      ],
      "execution_count": null,
      "outputs": []
    },
    {
      "cell_type": "code",
      "metadata": {
        "id": "OkvbfGR0bAZH"
      },
      "source": [
        "from google.colab import drive\n",
        "# 구글 드라이브 마운트.\n",
        "drive.mount('/content/drive')  # 절차를 따라서 한다"
      ],
      "execution_count": null,
      "outputs": []
    },
    {
      "cell_type": "code",
      "metadata": {
        "id": "3-wC7g5zbFMt"
      },
      "source": [
        "# 현 폴더의 위치를 보여준다.\n",
        "!pwd        # Linux"
      ],
      "execution_count": null,
      "outputs": []
    },
    {
      "cell_type": "code",
      "metadata": {
        "id": "JQPY09k0bFs-"
      },
      "source": [
        "# 작업 폴더로 이동한다.\n",
        "# 데이터 파일은 이미 올려져 있어야 한다.\n",
        "os.chdir(\"/content/drive/MyDrive/GwangjuAI/notebook/\")"
      ],
      "execution_count": null,
      "outputs": []
    },
    {
      "cell_type": "code",
      "metadata": {
        "id": "Ts10HE31bSKf"
      },
      "source": [
        "# 현 폴더의 위치를 보여준다.\n",
        "!pwd"
      ],
      "execution_count": null,
      "outputs": []
    },
    {
      "cell_type": "code",
      "metadata": {
        "id": "54ehk8RLbVls"
      },
      "source": [
        "# 현 폴더의 내용을 보여준다.\n",
        "!ls"
      ],
      "execution_count": null,
      "outputs": []
    },
    {
      "cell_type": "markdown",
      "metadata": {
        "id": "Lyiv1rtta6gg"
      },
      "source": [
        "#### 테이블 내용 가져와 보기:"
      ]
    },
    {
      "cell_type": "code",
      "metadata": {
        "id": "UrsyvXJDa6gg"
      },
      "source": [
        "# SQLite 에 연결 & Cursor 생성.\n",
        "os.chdir(\"../database/\")\n",
        "conn = sqlite3.connect(\"world.db\")\n",
        "cur = conn.cursor()"
      ],
      "execution_count": null,
      "outputs": []
    },
    {
      "cell_type": "code",
      "metadata": {
        "id": "vIZAA7gMa6gg"
      },
      "source": [
        "# MySQL 행 가져오기.\n",
        "sql = \"SELECT Name, Code, Region, Population FROM Country ORDER BY Population DESC;\"\n",
        "cur.execute(sql);\n",
        "res = cur.fetchall()"
      ],
      "execution_count": null,
      "outputs": []
    },
    {
      "cell_type": "code",
      "metadata": {
        "id": "-Vy1XrDIa6gg"
      },
      "source": [
        "# 자료형은 List of tuples.\n",
        "print(type(res))\n",
        "print(type(res[0]))"
      ],
      "execution_count": null,
      "outputs": []
    },
    {
      "cell_type": "code",
      "metadata": {
        "id": "d4ilgvMEa6gg"
      },
      "source": [
        "for x in res:\n",
        "    print(x)"
      ],
      "execution_count": null,
      "outputs": []
    },
    {
      "cell_type": "code",
      "metadata": {
        "id": "Ep_SCO3Aa6gg"
      },
      "source": [
        "conn.close()"
      ],
      "execution_count": null,
      "outputs": []
    },
    {
      "cell_type": "markdown",
      "metadata": {
        "id": "5IUuq03oa6gg"
      },
      "source": [
        "#### 테이블 생성, 행 삽입, 출력, 테이블 삭제:"
      ]
    },
    {
      "cell_type": "code",
      "metadata": {
        "id": "RtP1loVma6gg"
      },
      "source": [
        "# SQLite 에 연결 & Cursor 생성.\n",
        "os.chdir(\"../database\")\n",
        "conn = sqlite3.connect(\"scratch.db\")\n",
        "cur = conn.cursor()"
      ],
      "execution_count": null,
      "outputs": []
    },
    {
      "cell_type": "code",
      "metadata": {
        "id": "LANi1912a6gh"
      },
      "source": [
        "# MySQL 테이블 생성.\n",
        "sql = \"CREATE TABLE IF NOT EXISTS test ( a INT, b TEXT, c TEXT );\"\n",
        "cur.execute(sql);\n",
        "conn.commit();"
      ],
      "execution_count": null,
      "outputs": []
    },
    {
      "cell_type": "code",
      "metadata": {
        "id": "qGqv0gqxa6gh"
      },
      "source": [
        "# \"test\" 테이블에 행 추가.\n",
        "sql = \"INSERT INTO test VALUES ( ?, ?, ? );\"      # ?를 placeholder로 사용!\n",
        "x = [1, \"Hello\", \"World\"]                        # 삽입될 내용.\n",
        "cur.execute(sql,x);                                # 실행!\n",
        "conn.commit();"
      ],
      "execution_count": null,
      "outputs": []
    },
    {
      "cell_type": "code",
      "metadata": {
        "id": "x4rUtIL3a6gh"
      },
      "source": [
        "# \"test\" 테이블에 행 계속 추가.\n",
        "sqls = [\"INSERT INTO test VALUES ( 2, 'This', 'Right here!' );\", \n",
        "        \"INSERT INTO test ( b, c ) VALUES ( 'That', 'Over there!' );\",\n",
        "        \"INSERT INTO test ( a, b, c ) SELECT id, name, description FROM item;\"] \n",
        "for a_sql in sqls:\n",
        "    cur.execute(a_sql);\n",
        "    conn.commit();"
      ],
      "execution_count": null,
      "outputs": []
    },
    {
      "cell_type": "code",
      "metadata": {
        "id": "5_qRpQ1ma6gh"
      },
      "source": [
        "# 테이블 내용 보기.\n",
        "sql = \"SELECT * FROM test\"\n",
        "cur.execute(sql);\n",
        "res = cur.fetchall()\n",
        "for x in res:\n",
        "    print(x)"
      ],
      "execution_count": null,
      "outputs": []
    },
    {
      "cell_type": "code",
      "metadata": {
        "id": "B8yG7NVQa6gh"
      },
      "source": [
        "sql = \"DROP TABLE test;\"\n",
        "cur.execute(sql);\n",
        "conn.commit()"
      ],
      "execution_count": null,
      "outputs": []
    },
    {
      "cell_type": "code",
      "metadata": {
        "id": "wzhXH0yXa6gh"
      },
      "source": [
        "conn.close()"
      ],
      "execution_count": null,
      "outputs": []
    },
    {
      "cell_type": "code",
      "metadata": {
        "id": "8zUZ-2f3a6gh"
      },
      "source": [
        ""
      ],
      "execution_count": null,
      "outputs": []
    },
    {
      "cell_type": "code",
      "metadata": {
        "id": "_3pEwauLa96D"
      },
      "source": [
        ""
      ],
      "execution_count": null,
      "outputs": []
    }
  ]
}