{
  "nbformat": 4,
  "nbformat_minor": 0,
  "metadata": {
    "kernelspec": {
      "display_name": "Python 3",
      "language": "python",
      "name": "python3"
    },
    "language_info": {
      "codemirror_mode": {
        "name": "ipython",
        "version": 3
      },
      "file_extension": ".py",
      "mimetype": "text/x-python",
      "name": "python",
      "nbconvert_exporter": "python",
      "pygments_lexer": "ipython3",
      "version": "3.8.5"
    },
    "colab": {
      "name": "ex_0102_colab.ipynb",
      "provenance": [],
      "collapsed_sections": []
    }
  },
  "cells": [
    {
      "cell_type": "markdown",
      "metadata": {
        "id": "Wdalq9Gfb8of"
      },
      "source": [
        "### SQLite 데이터 베이스와 Pandas 데이터프레임"
      ]
    },
    {
      "cell_type": "code",
      "metadata": {
        "id": "6CWusdeKb8oh"
      },
      "source": [
        "import sqlite3\n",
        "import pandas as pd\n",
        "import os"
      ],
      "execution_count": null,
      "outputs": []
    },
    {
      "cell_type": "code",
      "metadata": {
        "id": "_tdRDyBocLhB"
      },
      "source": [
        "from google.colab import drive\n",
        "# 구글 드라이브 마운트.\n",
        "drive.mount('/content/drive')  # 절차를 따라서 한다"
      ],
      "execution_count": null,
      "outputs": []
    },
    {
      "cell_type": "code",
      "metadata": {
        "id": "6dAHqR92cMVk"
      },
      "source": [
        "# 현 폴더의 위치를 보여준다.\n",
        "!pwd        # Linux"
      ],
      "execution_count": null,
      "outputs": []
    },
    {
      "cell_type": "code",
      "metadata": {
        "id": "pvdmhUODcM4E"
      },
      "source": [
        "# 작업 폴더로 이동한다.\n",
        "# 데이터 파일은 이미 올려져 있어야 한다.\n",
        "os.chdir(\"/content/drive/MyDrive/GwangjuAI/notebook/\")"
      ],
      "execution_count": null,
      "outputs": []
    },
    {
      "cell_type": "code",
      "metadata": {
        "id": "OTq8UYS8cNNe"
      },
      "source": [
        "# 현 폴더의 위치를 보여준다.\n",
        "!pwd"
      ],
      "execution_count": null,
      "outputs": []
    },
    {
      "cell_type": "code",
      "metadata": {
        "id": "7n3BmWnIcNes"
      },
      "source": [
        "# 현 폴더의 내용을 보여준다.\n",
        "!ls"
      ],
      "execution_count": null,
      "outputs": []
    },
    {
      "cell_type": "markdown",
      "metadata": {
        "id": "BDvMFgARb8oh"
      },
      "source": [
        "#### 1). 데이터프레임의 내용을 데이터베이스로 옮겨본다: "
      ]
    },
    {
      "cell_type": "markdown",
      "metadata": {
        "id": "NoghE7sUb8oi"
      },
      "source": [
        "#### 데이터프레임을 가져온다:"
      ]
    },
    {
      "cell_type": "code",
      "metadata": {
        "id": "ZKDRMLvTb8oi"
      },
      "source": [
        "os.chdir(\"../data\")\n",
        "df = pd.read_csv(\"data_studentlist_en.csv\",header=\"infer\")"
      ],
      "execution_count": null,
      "outputs": []
    },
    {
      "cell_type": "code",
      "metadata": {
        "id": "ZAwAcZyRb8oi"
      },
      "source": [
        "nrows = df.shape[0]\n",
        "my_header = df.columns\n",
        "df.head(3)"
      ],
      "execution_count": null,
      "outputs": []
    },
    {
      "cell_type": "code",
      "metadata": {
        "id": "F9t-_B9-b8oj"
      },
      "source": [
        "# 구조를 본다.\n",
        "df.info()"
      ],
      "execution_count": null,
      "outputs": []
    },
    {
      "cell_type": "markdown",
      "metadata": {
        "id": "fEfYqog7b8oj"
      },
      "source": [
        "#### 테이블 내용 가져와 보기:"
      ]
    },
    {
      "cell_type": "code",
      "metadata": {
        "id": "rNNpsZeXb8ok"
      },
      "source": [
        "# SQLite 데이터 베이스 생성(또는 연결) & Cursor 생성.\n",
        "conn = sqlite3.connect(\"student.db\")                         # 처음 실행시 신규 생성.\n",
        "cur = conn.cursor()"
      ],
      "execution_count": null,
      "outputs": []
    },
    {
      "cell_type": "code",
      "metadata": {
        "id": "Dd8ItZVtb8ok"
      },
      "source": [
        "# SQL 테이블 생성.\n",
        "sql = \"CREATE TABLE IF NOT EXISTS studentlist ( name TEXT, gender TEXT, age INT, grade INT, absence TEXT, bloodtype TEXT, height REAL, weight REAL);\"\n",
        "cur.execute(sql);\n",
        "conn.commit();"
      ],
      "execution_count": null,
      "outputs": []
    },
    {
      "cell_type": "code",
      "metadata": {
        "id": "Lz2D-nvGb8ok"
      },
      "source": [
        "# SQL 테이블 내용 클리어.\n",
        "sql = \"DELETE FROM studentlist;\"\n",
        "cur.execute(sql);\n",
        "conn.commit();"
      ],
      "execution_count": null,
      "outputs": []
    },
    {
      "cell_type": "code",
      "metadata": {
        "id": "nKfqIIHdb8ol"
      },
      "source": [
        "# SQL 테이블 내용 확인.\n",
        "sql = \"SELECT * FROM studentlist;\"\n",
        "cur.execute(sql);\n",
        "res = cur.fetchall();\n",
        "print(res)"
      ],
      "execution_count": null,
      "outputs": []
    },
    {
      "cell_type": "markdown",
      "metadata": {
        "id": "hk8d5x7yb8ol"
      },
      "source": [
        "#### 한 행 씩 옮겨 담는다:"
      ]
    },
    {
      "cell_type": "code",
      "metadata": {
        "id": "49dEFQdAb8ol"
      },
      "source": [
        "# \"studentlist\" 테이블에 행 추가.\n",
        "sql = \"INSERT INTO studentlist VALUES ( ?, ?, ?, ?, ?, ?, ?, ? );\"      # ?를 placeholder로 사용!\n",
        "for i in range(nrows):\n",
        "    x = df.loc[i].values                         # 삽입될 내용.\n",
        "    x = list(x)\n",
        "    x[2] = int(x[2])                               # INT64를 INT로 변환.\n",
        "    x[3] = int(x[3])                               # INT64를 INT로 변환.\n",
        "    cur.execute(sql,x);                            # 삽입.  \n",
        "    conn.commit();"
      ],
      "execution_count": null,
      "outputs": []
    },
    {
      "cell_type": "code",
      "metadata": {
        "id": "Jtf6_rs0b8ol"
      },
      "source": [
        "# 테이블 내용 보기.\n",
        "sql = \"SELECT * FROM studentlist\"\n",
        "cur.execute(sql);\n",
        "res = cur.fetchall()\n",
        "for x in res:\n",
        "    print(x)"
      ],
      "execution_count": null,
      "outputs": []
    },
    {
      "cell_type": "markdown",
      "metadata": {
        "id": "LNsdkalkb8om"
      },
      "source": [
        "#### 2). 데이터베이스의 내용을 데이터프레임으로 옮겨본다: "
      ]
    },
    {
      "cell_type": "code",
      "metadata": {
        "id": "JQksnZXDb8om"
      },
      "source": [
        "# 테이블 내용 가져온다.\n",
        "sql = \"SELECT * FROM studentlist\"\n",
        "cur.execute(sql);\n",
        "res = cur.fetchall()"
      ],
      "execution_count": null,
      "outputs": []
    },
    {
      "cell_type": "code",
      "metadata": {
        "id": "28EKQPxrb8om"
      },
      "source": [
        "res"
      ],
      "execution_count": null,
      "outputs": []
    },
    {
      "cell_type": "code",
      "metadata": {
        "id": "zm0ye781b8om"
      },
      "source": [
        "# 새로운 데이터 프레임 생성 & 확인.\n",
        "df_new = pd.DataFrame(data=res, columns=my_header, index=None)\n",
        "df_new.head(5)"
      ],
      "execution_count": null,
      "outputs": []
    },
    {
      "cell_type": "markdown",
      "metadata": {
        "id": "kGdrV9zAb8om"
      },
      "source": [
        "#### 3). 뒷 정리:"
      ]
    },
    {
      "cell_type": "code",
      "metadata": {
        "id": "rA4SFio8b8om"
      },
      "source": [
        "# 테이블 삭제.\n",
        "sql = \"DROP TABLE studentlist;\"\n",
        "cur.execute(sql);\n",
        "conn.commit();"
      ],
      "execution_count": null,
      "outputs": []
    },
    {
      "cell_type": "code",
      "metadata": {
        "id": "20PRtkJPb8om"
      },
      "source": [
        "conn.close()"
      ],
      "execution_count": null,
      "outputs": []
    },
    {
      "cell_type": "code",
      "metadata": {
        "id": "AXGENNZIb8on"
      },
      "source": [
        ""
      ],
      "execution_count": null,
      "outputs": []
    }
  ]
}