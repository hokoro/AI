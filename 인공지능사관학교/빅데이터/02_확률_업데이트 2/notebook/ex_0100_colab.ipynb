{
 "cells": [
  {
   "cell_type": "markdown",
   "metadata": {
    "id": "CKEoWzuBvG7o"
   },
   "source": [
    "### 구글 Colab 사용방법 Review."
   ]
  },
  {
   "cell_type": "markdown",
   "metadata": {
    "id": "SNRASnw1u9Oo"
   },
   "source": [
    "#### 구글 Colab의 셸 커맨드."
   ]
  },
  {
   "cell_type": "code",
   "execution_count": null,
   "metadata": {
    "id": "8XnFGhyJvFmi"
   },
   "outputs": [],
   "source": [
    "# 현 폴더 내용.\n",
    "!ls"
   ]
  },
  {
   "cell_type": "code",
   "execution_count": null,
   "metadata": {
    "id": "ZaMCmA98vd6h"
   },
   "outputs": [],
   "source": [
    "# 현 폴더 경로.\n",
    "!pwd"
   ]
  },
  {
   "cell_type": "code",
   "execution_count": null,
   "metadata": {
    "id": "UkQ9pN0-vx2W"
   },
   "outputs": [],
   "source": [
    "# 텍스트 파일 새롭게 만들기 (매직 커맨드 사용).\n",
    "%%writefile test.txt\n",
    "Hello world!!!"
   ]
  },
  {
   "cell_type": "code",
   "execution_count": null,
   "metadata": {
    "id": "3YlLnS9cv6R5"
   },
   "outputs": [],
   "source": [
    "# 텍스트 파일 내용 출력.\n",
    "!cat test.txt"
   ]
  },
  {
   "cell_type": "code",
   "execution_count": null,
   "metadata": {
    "id": "hXNH2-oJvhEP"
   },
   "outputs": [],
   "source": [
    "# 폴더 만들기.\n",
    "!mkdir my_test"
   ]
  },
  {
   "cell_type": "code",
   "execution_count": null,
   "metadata": {
    "id": "cuhYQRpgvntA"
   },
   "outputs": [],
   "source": [
    "!ls"
   ]
  },
  {
   "cell_type": "code",
   "execution_count": null,
   "metadata": {
    "id": "oZCylFRXvotI"
   },
   "outputs": [],
   "source": [
    "# 파일 삭제.\n",
    "!rm test.txt"
   ]
  },
  {
   "cell_type": "code",
   "execution_count": null,
   "metadata": {
    "id": "fcPcyVa1wJyA"
   },
   "outputs": [],
   "source": [
    "# 폴더 삭제.\n",
    "!rm -r my_test"
   ]
  },
  {
   "cell_type": "code",
   "execution_count": null,
   "metadata": {
    "id": "jxfUYLVzvuKY"
   },
   "outputs": [],
   "source": [
    "!ls"
   ]
  },
  {
   "cell_type": "markdown",
   "metadata": {
    "id": "lZ8WPiCNvu94"
   },
   "source": [
    "#### 구글 Colab의 세션 정보."
   ]
  },
  {
   "cell_type": "code",
   "execution_count": null,
   "metadata": {
    "id": "SV7Y5yKqwalb"
   },
   "outputs": [],
   "source": [
    "# 운영체제 정보.\n",
    "from platform import platform\n",
    "platform()"
   ]
  },
  {
   "cell_type": "code",
   "execution_count": null,
   "metadata": {
    "id": "DhV-EDY3wbM_"
   },
   "outputs": [],
   "source": [
    "# 운영체제 정보.\n",
    "!cat /etc/issue.net"
   ]
  },
  {
   "cell_type": "code",
   "execution_count": null,
   "metadata": {
    "id": "izXxNYpXwiH3"
   },
   "outputs": [],
   "source": [
    "# CPU 정보.\n",
    "!cat /proc/cpuinfo"
   ]
  },
  {
   "cell_type": "code",
   "execution_count": null,
   "metadata": {
    "id": "XzBS6lWRwlMX"
   },
   "outputs": [],
   "source": [
    "# Memory 정보.\n",
    "!cat /proc/meminfo"
   ]
  },
  {
   "cell_type": "code",
   "execution_count": null,
   "metadata": {
    "id": "0iwldOJ_wnD3"
   },
   "outputs": [],
   "source": [
    "# Drive 정보.\n",
    "!df -h"
   ]
  },
  {
   "cell_type": "markdown",
   "metadata": {
    "id": "3JBn2I3Rwp8f"
   },
   "source": [
    "#### 유용한 MarkDown."
   ]
  },
  {
   "cell_type": "markdown",
   "metadata": {
    "id": "vJz2WKctxA_P"
   },
   "source": [
    "# 타이틀 1\n",
    "## 타이틀 2\n",
    "### 타이틀 3\n",
    "#### 타이틀 4\n",
    "\n",
    "*이탤릭 폰트*\n",
    "\n",
    "_이탤릭 폰트_\n",
    "\n",
    "**볼드 폰트**\n",
    "\n",
    "__볼드 폰트__\n",
    "\n",
    "~가로줄~\n",
    "\n",
    "<u>밑줄</u>\n",
    "\n",
    "LaTex 수식 $Area = \\pi r^2$\n",
    "\n",
    "* 아이템 1\n",
    "* 아이템 2\n",
    "* 아이템 3\n",
    "    * 아이템 4\n",
    "    * 아이템 5\n",
    "    * 아이템 6\n",
    "    \n",
    "    \n",
    "- 아이템 1\n",
    "- 아이템 2\n",
    "- 아이템 3\n",
    "    - 아이템 4\n",
    "    - 아이템 5\n",
    "    - 아이템 6\n",
    "\n",
    "1. 아이템 1\n",
    "2. 아이템 2\n",
    "3. 아이템 3\n",
    "    4. 아이템 4\n",
    "    5. 아이템 5\n",
    "    6. 아이템 6\n",
    "\n",
    "[구글](http://www.google.com)"
   ]
  },
  {
   "cell_type": "markdown",
   "metadata": {
    "id": "xY4f8CQ5xcL4"
   },
   "source": [
    "![붓꽃](https://upload.wikimedia.org/wikipedia/commons/thumb/5/56/Kosaciec_szczecinkowaty_Iris_setosa.jpg/800px-Kosaciec_szczecinkowaty_Iris_setosa.jpg)"
   ]
  },
  {
   "cell_type": "markdown",
   "metadata": {
    "id": "2O3auLI6yGwZ"
   },
   "source": [
    "> 인용 1\n",
    ">> 인용 2\n",
    ">>> 인용 3"
   ]
  },
  {
   "cell_type": "markdown",
   "metadata": {
    "id": "zEpBGb3FyRhP"
   },
   "source": [
    "| H1 | H2 | H3  |\n",
    "|:---|:---:|---:|\n",
    "| a1 | a2 | a3 |\n",
    "| b1 | b2 | b3 |"
   ]
  },
  {
   "cell_type": "markdown",
   "metadata": {
    "id": "zC-HMDLgyiRf"
   },
   "source": [
    "This is a block code:\n",
    "```\n",
    "print(\"Hello Python\")\n",
    "print(\"This is a Python program.\")\n",
    "```"
   ]
  },
  {
   "cell_type": "markdown",
   "metadata": {
    "id": "hP5FIB3NypTn"
   },
   "source": [
    "#### 매직 커맨드."
   ]
  },
  {
   "cell_type": "code",
   "execution_count": null,
   "metadata": {
    "id": "_rO5NrDgywGH"
   },
   "outputs": [],
   "source": [
    "# 현 폴더 내용 리스팅.\n",
    "%ls"
   ]
  },
  {
   "cell_type": "code",
   "execution_count": null,
   "metadata": {
    "id": "8Fk9-nAly34_"
   },
   "outputs": [],
   "source": [
    "# 현 폴더의 경로.\n",
    "%pwd"
   ]
  },
  {
   "cell_type": "code",
   "execution_count": null,
   "metadata": {
    "id": "YHtKIoXgy41X"
   },
   "outputs": [],
   "source": [
    "# 텍스트 파일 생성.\n",
    "%%writefile hello.py\n",
    "print(\"Hello Python\")\n",
    "print(\"This is a Python program.\")"
   ]
  },
  {
   "cell_type": "code",
   "execution_count": null,
   "metadata": {
    "id": "r85UaTJDy-MX"
   },
   "outputs": [],
   "source": [
    "%ls"
   ]
  },
  {
   "cell_type": "code",
   "execution_count": null,
   "metadata": {
    "id": "gGlqUlXey_V3"
   },
   "outputs": [],
   "source": [
    "# 파이썬 코드 실행.\n",
    "%run hello.py"
   ]
  },
  {
   "cell_type": "code",
   "execution_count": null,
   "metadata": {
    "id": "CFRi64U-zBzv"
   },
   "outputs": [],
   "source": [
    "# 이력.\n",
    "%history"
   ]
  },
  {
   "cell_type": "code",
   "execution_count": null,
   "metadata": {
    "id": "wsVx0sY-zD5n"
   },
   "outputs": [],
   "source": [
    "%history -n 1-3"
   ]
  },
  {
   "cell_type": "code",
   "execution_count": null,
   "metadata": {
    "id": "AUufeSXpzG1X"
   },
   "outputs": [],
   "source": [
    "# 이전 입력 다시 실행.\n",
    "%rerun"
   ]
  },
  {
   "cell_type": "code",
   "execution_count": null,
   "metadata": {
    "id": "59I7IyUczIov"
   },
   "outputs": [],
   "source": [
    "# 바로 이전의 파이썬 수행셀 다시 실행.\n",
    "_"
   ]
  },
  {
   "cell_type": "code",
   "execution_count": null,
   "metadata": {
    "id": "CttoxL8_zc2_"
   },
   "outputs": [],
   "source": [
    "# 2 스텝 이전의 파이썬 수행셀 다시 실행.\n",
    "__"
   ]
  },
  {
   "cell_type": "code",
   "execution_count": null,
   "metadata": {
    "id": "kIaT5y6Jzdyv"
   },
   "outputs": [],
   "source": [
    "a = [1,2,3,4]"
   ]
  },
  {
   "cell_type": "code",
   "execution_count": null,
   "metadata": {
    "id": "z1KvnSVBzhp3"
   },
   "outputs": [],
   "source": [
    "# 도움글.\n",
    "help(a)"
   ]
  },
  {
   "cell_type": "code",
   "execution_count": null,
   "metadata": {
    "id": "yMdooIyMziqP"
   },
   "outputs": [],
   "source": [
    "# 도움글.\n",
    "a?"
   ]
  },
  {
   "cell_type": "code",
   "execution_count": null,
   "metadata": {
    "id": "EcgtmHrFzktn"
   },
   "outputs": [],
   "source": [
    "# 도움글.\n",
    "a.append?"
   ]
  },
  {
   "cell_type": "code",
   "execution_count": null,
   "metadata": {
    "id": "u1iatrw3fZOr"
   },
   "outputs": [],
   "source": [
    "def my_func(x):\n",
    "  \"\"\"\n",
    "  A function that returns the square of a number.\n",
    "  \"\"\"\n",
    "  return x**2"
   ]
  },
  {
   "cell_type": "code",
   "execution_count": null,
   "metadata": {
    "id": "mmDp9Mj0fbul"
   },
   "outputs": [],
   "source": [
    "my_func?"
   ]
  },
  {
   "cell_type": "code",
   "execution_count": null,
   "metadata": {
    "id": "YS2hWEs9fchQ"
   },
   "outputs": [],
   "source": [
    "my_func??"
   ]
  },
  {
   "cell_type": "code",
   "execution_count": null,
   "metadata": {
    "id": "50dmvyL-fnRH"
   },
   "outputs": [],
   "source": [
    "# 수행시간 측정.\n",
    "%timeit a = [2**n for n in range(100)]   "
   ]
  },
  {
   "cell_type": "code",
   "execution_count": null,
   "metadata": {
    "id": "ecSmEr4fzmLf"
   },
   "outputs": [],
   "source": [
    "# 수행시간 측정.\n",
    "%%timeit\n",
    "a = []\n",
    "for n in range(100):\n",
    "    a.append(2**n)"
   ]
  },
  {
   "cell_type": "code",
   "execution_count": null,
   "metadata": {
    "id": "5GrkG_i90CX-"
   },
   "outputs": [],
   "source": []
  }
 ],
 "metadata": {
  "colab": {
   "collapsed_sections": [],
   "name": "ex_0100_colab.ipynb",
   "provenance": []
  },
  "kernelspec": {
   "display_name": "Python 3",
   "language": "python",
   "name": "python3"
  },
  "language_info": {
   "codemirror_mode": {
    "name": "ipython",
    "version": 3
   },
   "file_extension": ".py",
   "mimetype": "text/x-python",
   "name": "python",
   "nbconvert_exporter": "python",
   "pygments_lexer": "ipython3",
   "version": "3.8.8"
  }
 },
 "nbformat": 4,
 "nbformat_minor": 1
}
