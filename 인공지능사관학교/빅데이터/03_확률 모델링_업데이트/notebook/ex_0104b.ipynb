{
 "cells": [
  {
   "cell_type": "markdown",
   "metadata": {},
   "source": [
    "### 연관성 분석 - FP Growth."
   ]
  },
  {
   "cell_type": "code",
   "execution_count": null,
   "metadata": {},
   "outputs": [],
   "source": [
    "# 다음 모듈을 설치한다.\n",
    "# !pip install mlxtend"
   ]
  },
  {
   "cell_type": "code",
   "execution_count": null,
   "metadata": {},
   "outputs": [],
   "source": [
    "import numpy as np\n",
    "import pandas as pd\n",
    "import matplotlib.pyplot as plt\n",
    "from mlxtend.preprocessing import TransactionEncoder\n",
    "from mlxtend.frequent_patterns import apriori, fpgrowth, association_rules"
   ]
  },
  {
   "cell_type": "markdown",
   "metadata": {},
   "source": [
    "#### 1. 데이터를 읽어와서 탐색한다."
   ]
  },
  {
   "cell_type": "code",
   "execution_count": null,
   "metadata": {},
   "outputs": [],
   "source": [
    "df = pd.read_csv(\"../data/data_basket.csv\")"
   ]
  },
  {
   "cell_type": "code",
   "execution_count": null,
   "metadata": {},
   "outputs": [],
   "source": [
    "df.shape"
   ]
  },
  {
   "cell_type": "code",
   "execution_count": null,
   "metadata": {},
   "outputs": [],
   "source": [
    "df.info()"
   ]
  },
  {
   "cell_type": "code",
   "execution_count": null,
   "metadata": {},
   "outputs": [],
   "source": [
    "df.head()"
   ]
  },
  {
   "cell_type": "code",
   "execution_count": null,
   "metadata": {},
   "outputs": [],
   "source": [
    "# 장바구니 크기의 도수표를 만들고 시각화로 출력한다.\n",
    "size_frequencies = df['items'].apply(lambda x: x.count(',') +1).value_counts()\n",
    "size_frequencies.plot.bar(color = 'orange', alpha=0.7)\n",
    "plt.xlabel(\"Basket Size\")\n",
    "plt.show()"
   ]
  },
  {
   "cell_type": "markdown",
   "metadata": {},
   "source": [
    "#### 2. 데이터 전처리."
   ]
  },
  {
   "cell_type": "markdown",
   "metadata": {},
   "source": [
    "**2.1. 전처리 준비.**"
   ]
  },
  {
   "cell_type": "code",
   "execution_count": null,
   "metadata": {},
   "outputs": [],
   "source": [
    "# 문자열에서 중괄호를 제거한다.\n",
    "sr = df['items'].apply(lambda x: x[1:-1])"
   ]
  },
  {
   "cell_type": "code",
   "execution_count": null,
   "metadata": {},
   "outputs": [],
   "source": [
    "# List of List 로 변환한다.\n",
    "my_data = []\n",
    "for x in sr:\n",
    "    a_basket = x.split(\",\")\n",
    "    if len(a_basket) > 1:                           # 단 한개의 아이템만 있는 장바구니는 필요 없다.\n",
    "        my_data += [a_basket]"
   ]
  },
  {
   "cell_type": "code",
   "execution_count": null,
   "metadata": {},
   "outputs": [],
   "source": [
    "# 장바구니의 갯수.\n",
    "print(len(my_data))"
   ]
  },
  {
   "cell_type": "code",
   "execution_count": null,
   "metadata": {},
   "outputs": [],
   "source": [
    "# 첫 3개의 장바구니를 출력해 본다.\n",
    "my_data[:3]"
   ]
  },
  {
   "cell_type": "markdown",
   "metadata": {},
   "source": [
    "**2.2. Encoding된 형태로 변환.**"
   ]
  },
  {
   "cell_type": "code",
   "execution_count": null,
   "metadata": {},
   "outputs": [],
   "source": [
    "# TransactionEncoder 객체 생성.\n",
    "my_te = TransactionEncoder()\n",
    "my_data_array = my_te.fit_transform(my_data)       \n",
    "type(my_data_array)                              # Numpy 배열 객체 확인."
   ]
  },
  {
   "cell_type": "code",
   "execution_count": null,
   "metadata": {},
   "outputs": [],
   "source": [
    "# Numpy 배열의 shape.\n",
    "# 출력하기에는 크다.\n",
    "my_data_array.shape"
   ]
  },
  {
   "cell_type": "code",
   "execution_count": null,
   "metadata": {},
   "outputs": [],
   "source": [
    "# 학습된 columns_의 일부를 출력해 본다.\n",
    "print(len(my_te.columns_))       # columns_는 list 이다. 이것의 길이를 출력해 본다.\n",
    "print(my_te.columns_[:10])"
   ]
  },
  {
   "cell_type": "code",
   "execution_count": null,
   "metadata": {},
   "outputs": [],
   "source": [
    "# Numpy 배열을 역으로 변환할 수도 있다.\n",
    "my_te.inverse_transform(my_data_array)[:3]"
   ]
  },
  {
   "cell_type": "code",
   "execution_count": null,
   "metadata": {},
   "outputs": [],
   "source": [
    "# 이제는 데이터 프레임으로 변환한다.\n",
    "df_processed = pd.DataFrame(data=my_data_array, columns = my_te.columns_)\n",
    "print(df_processed.shape)            # Shape 출력.        \n",
    "df_processed.head(5)                 # 상단 출력."
   ]
  },
  {
   "cell_type": "markdown",
   "metadata": {},
   "source": [
    "#### 3. FP Growth 알고리즘 적용."
   ]
  },
  {
   "cell_type": "code",
   "execution_count": null,
   "metadata": {},
   "outputs": [],
   "source": [
    "# 지지도(support)가 최소값 이상인 항목들만 걸러낸다.\n",
    "my_frequent_patterns = fpgrowth(df_processed, min_support=0.001, use_colnames=True)"
   ]
  },
  {
   "cell_type": "code",
   "execution_count": null,
   "metadata": {},
   "outputs": [],
   "source": [
    "# 항목의 지지도(support)가 높은 순서대로 출력해 본다.\n",
    "# 항목의 지지도(support)는 항목이 포함된 basket의 비율을 의미한다.\n",
    "my_frequent_patterns.sort_values(by=\"support\", ascending=False).head(100)"
   ]
  },
  {
   "cell_type": "code",
   "execution_count": null,
   "metadata": {},
   "outputs": [],
   "source": [
    "# 지지도(support)가 높은 항목들을 기반으로 연관 규칙을 만들어 본다.\n",
    "# 신뢰도(confidence)가 최소값 이상인 규칙들만 걸러낸다.\n",
    "my_rules = association_rules(my_frequent_patterns, metric=\"confidence\",min_threshold=0.75)"
   ]
  },
  {
   "cell_type": "code",
   "execution_count": null,
   "metadata": {},
   "outputs": [],
   "source": [
    "# 향상도(lift)가 1 이상인 연관 규칙들만 걸러낸다.\n",
    "my_rules = my_rules[my_rules.lift > 1.0]\n",
    "# 향상도(lift)가 높은 순서대로 연관 규칙을 출력해 본다.\n",
    "my_rules[['antecedents', 'consequents','support','confidence','lift']].sort_values(by='lift',ascending=False ).head(10)"
   ]
  },
  {
   "cell_type": "code",
   "execution_count": null,
   "metadata": {},
   "outputs": [],
   "source": [
    "# 왼편, 오른편의 항목수를 명시해서 연관 규칙을 출력해 본다.\n",
    "n_left = 3\n",
    "n_right = 1\n",
    "my_rules_small = my_rules[(my_rules.antecedents.apply(lambda x: len(x)) == n_left) & (my_rules.consequents.apply(lambda x: len(x)) == n_right)]\n",
    "my_rules_small[['antecedents', 'consequents','support','confidence','lift']].sort_values(by='lift',ascending=False ).head(10)"
   ]
  },
  {
   "cell_type": "code",
   "execution_count": null,
   "metadata": {},
   "outputs": [],
   "source": []
  },
  {
   "cell_type": "code",
   "execution_count": null,
   "metadata": {},
   "outputs": [],
   "source": []
  }
 ],
 "metadata": {
  "kernelspec": {
   "display_name": "Python 3",
   "language": "python",
   "name": "python3"
  },
  "language_info": {
   "codemirror_mode": {
    "name": "ipython",
    "version": 3
   },
   "file_extension": ".py",
   "mimetype": "text/x-python",
   "name": "python",
   "nbconvert_exporter": "python",
   "pygments_lexer": "ipython3",
   "version": "3.8.8"
  }
 },
 "nbformat": 4,
 "nbformat_minor": 2
}
