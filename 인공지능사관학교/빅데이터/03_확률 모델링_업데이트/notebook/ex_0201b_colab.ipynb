{
  "nbformat": 4,
  "nbformat_minor": 0,
  "metadata": {
    "kernelspec": {
      "display_name": "Python 3",
      "language": "python",
      "name": "python3"
    },
    "language_info": {
      "codemirror_mode": {
        "name": "ipython",
        "version": 3
      },
      "file_extension": ".py",
      "mimetype": "text/x-python",
      "name": "python",
      "nbconvert_exporter": "python",
      "pygments_lexer": "ipython3",
      "version": "3.8.8"
    },
    "colab": {
      "name": "ex_0201b_colab.ipynb",
      "provenance": [],
      "collapsed_sections": []
    }
  },
  "cells": [
    {
      "cell_type": "markdown",
      "metadata": {
        "id": "7rqi5CFGV1hC"
      },
      "source": [
        "### 정규표현식 응용"
      ]
    },
    {
      "cell_type": "code",
      "metadata": {
        "id": "ywDaOu0fV1hH"
      },
      "source": [
        "import re"
      ],
      "execution_count": null,
      "outputs": []
    },
    {
      "cell_type": "code",
      "metadata": {
        "id": "Nuj1IlPJWNmR"
      },
      "source": [
        "# 구글 드라이브 마운트.\n",
        "from google.colab import drive\n",
        "drive.mount('/content/drive')  # 절차를 따라서 한다"
      ],
      "execution_count": null,
      "outputs": []
    },
    {
      "cell_type": "code",
      "metadata": {
        "id": "_b3zb6ZnWSZM"
      },
      "source": [
        "# 경로 이동.\n",
        "%cd \"/content/drive/MyDrive/GwangjuAI/modelling/notebook\""
      ],
      "execution_count": null,
      "outputs": []
    },
    {
      "cell_type": "code",
      "metadata": {
        "id": "uh6W33fnV1hJ"
      },
      "source": [
        "f = open(\"../data/book_crime_and_punishment.txt\",'r',encoding='UTF8')\n",
        "book = f.readlines()\n",
        "f.close()"
      ],
      "execution_count": null,
      "outputs": []
    },
    {
      "cell_type": "code",
      "metadata": {
        "id": "o6kOsGZ7V1hL"
      },
      "source": [
        "def grep2(reg_exp, my_text):\n",
        "    result=[]\n",
        "    for a_line in my_text:\n",
        "        if re.search(reg_exp, a_line):\n",
        "            result.append(a_line)\n",
        "    return result"
      ],
      "execution_count": null,
      "outputs": []
    },
    {
      "cell_type": "code",
      "metadata": {
        "id": "X2rGGG0tV1hM"
      },
      "source": [
        "def grep(reg_exp,my_text):\n",
        "    result = []\n",
        "    reg_exp_compiled = re.compile(reg_exp)\n",
        "    for i in range(len(my_text)):\n",
        "        if reg_exp_compiled.search(my_text[i]):\n",
        "            result.append(my_text[i])\n",
        "    return result"
      ],
      "execution_count": null,
      "outputs": []
    },
    {
      "cell_type": "markdown",
      "metadata": {
        "id": "4bbtBXX6V1hN"
      },
      "source": [
        "간단한 테스트"
      ]
    },
    {
      "cell_type": "code",
      "metadata": {
        "id": "snHKrdp2V1hP"
      },
      "source": [
        "grep('hate', ['I love you', 'I hate you', 'I like you'])"
      ],
      "execution_count": null,
      "outputs": []
    },
    {
      "cell_type": "code",
      "metadata": {
        "id": "NO150CP9V1hQ"
      },
      "source": [
        "grep(\"^[0-9]\", [\"2018 is this\", \"you are number 212\", \"my age is 21\"])"
      ],
      "execution_count": null,
      "outputs": []
    },
    {
      "cell_type": "code",
      "metadata": {
        "id": "HfyUqmO5V1hS"
      },
      "source": [
        "grep(\"r{3}.\", [\"Dog barks\", \"Cat purrrs\", \"Brroong\"])"
      ],
      "execution_count": null,
      "outputs": []
    },
    {
      "cell_type": "markdown",
      "metadata": {
        "id": "FJ7kpon7V1hV"
      },
      "source": [
        "\"죄와 벌\"에서 발췌"
      ]
    },
    {
      "cell_type": "code",
      "metadata": {
        "id": "nqGaxTlKV1hV"
      },
      "source": [
        "grep(\"^This\", book)            # \"This\"로 시작."
      ],
      "execution_count": null,
      "outputs": []
    },
    {
      "cell_type": "code",
      "metadata": {
        "id": "JSiAW3CLV1hW"
      },
      "source": [
        "grep(\" end[.]$\",book)          # \"end.\"로 끝남."
      ],
      "execution_count": null,
      "outputs": []
    },
    {
      "cell_type": "code",
      "metadata": {
        "id": "5vVsdMCjV1hX"
      },
      "source": [
        "grep(\"^[Ii]\",book)            # I 또는 i로 시작."
      ],
      "execution_count": null,
      "outputs": []
    },
    {
      "cell_type": "code",
      "metadata": {
        "id": "l5Mu6m0GV1hY"
      },
      "source": [
        "grep(\"^[0-9]\",book)           # 수자로 시작."
      ],
      "execution_count": null,
      "outputs": []
    },
    {
      "cell_type": "code",
      "metadata": {
        "id": "1x_6VZ76V1hZ"
      },
      "source": [
        "grep(\"b.d\",book)              # 아무런 문자 1회."
      ],
      "execution_count": null,
      "outputs": []
    },
    {
      "cell_type": "code",
      "metadata": {
        "id": "UoqjgQQKV1hZ"
      },
      "source": [
        "grep(\"b...d\",book)            # 아무런 문자 3회."
      ],
      "execution_count": null,
      "outputs": []
    },
    {
      "cell_type": "code",
      "metadata": {
        "id": "nyW5ZyEMV1hZ"
      },
      "source": [
        "grep(\"a*d\",book)              # 'a' 0회 이상 반복."
      ],
      "execution_count": null,
      "outputs": []
    },
    {
      "cell_type": "code",
      "metadata": {
        "id": "ch7XfWkxV1ha"
      },
      "source": [
        "grep(\"a+d\",book)              # 'a' 1회 이상 반복."
      ],
      "execution_count": null,
      "outputs": []
    },
    {
      "cell_type": "code",
      "metadata": {
        "id": "EsyHTF1xV1ha"
      },
      "source": [
        "grep(\"r{2}.d\",book)           # 'r' 2회 반복."
      ],
      "execution_count": null,
      "outputs": []
    },
    {
      "cell_type": "code",
      "metadata": {
        "id": "P0fEUE5PV1ha"
      },
      "source": [
        "grep(\"r{1,2}.d\",book)         # 'r' 1~2회 반복."
      ],
      "execution_count": null,
      "outputs": []
    },
    {
      "cell_type": "code",
      "metadata": {
        "id": "-2tsbTtSV1hb"
      },
      "source": [
        "grep(\"r?ed\",book)             # 'r' 0~1회."
      ],
      "execution_count": null,
      "outputs": []
    },
    {
      "cell_type": "code",
      "metadata": {
        "id": "6Yj6zk9rV1hb"
      },
      "source": [
        "grep(\"love|hate\",book)        # \"love\" or \"hate\"."
      ],
      "execution_count": null,
      "outputs": []
    },
    {
      "cell_type": "code",
      "metadata": {
        "id": "V7fSNwjCV3l8"
      },
      "source": [
        ""
      ],
      "execution_count": null,
      "outputs": []
    }
  ]
}