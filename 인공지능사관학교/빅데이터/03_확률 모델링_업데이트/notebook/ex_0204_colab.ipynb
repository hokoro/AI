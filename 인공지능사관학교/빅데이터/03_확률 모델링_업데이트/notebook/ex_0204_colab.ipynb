{
  "nbformat": 4,
  "nbformat_minor": 0,
  "metadata": {
    "kernelspec": {
      "display_name": "Python 3",
      "language": "python",
      "name": "python3"
    },
    "language_info": {
      "codemirror_mode": {
        "name": "ipython",
        "version": 3
      },
      "file_extension": ".py",
      "mimetype": "text/x-python",
      "name": "python",
      "nbconvert_exporter": "python",
      "pygments_lexer": "ipython3",
      "version": "3.8.8"
    },
    "colab": {
      "name": "ex_0204_colab.ipynb",
      "provenance": [],
      "collapsed_sections": []
    }
  },
  "cells": [
    {
      "cell_type": "markdown",
      "metadata": {
        "id": "5hkLw44Ecc2a"
      },
      "source": [
        "### 워드클라우드 (국문)"
      ]
    },
    {
      "cell_type": "markdown",
      "metadata": {
        "id": "PZFhY4cjcc2c"
      },
      "source": [
        "#### 필요한 패키지 불러오기:"
      ]
    },
    {
      "cell_type": "code",
      "metadata": {
        "id": "_SFHb8gncivL"
      },
      "source": [
        "# 한글 분석 라이브러리 설치.\n",
        "!pip install konlpy"
      ],
      "execution_count": null,
      "outputs": []
    },
    {
      "cell_type": "code",
      "metadata": {
        "id": "JZ-_wosLeH-h"
      },
      "source": [
        "# 한글 (나눔) 글꼴 설치 (시각화를 위해서).\n",
        "!sudo apt-get install -y fonts-nanum\n",
        "!sudo fc-cache -fv\n",
        "!rm ~/.cache/matplitlib -rf"
      ],
      "execution_count": null,
      "outputs": []
    },
    {
      "cell_type": "code",
      "metadata": {
        "id": "kkGN0M3icc2c"
      },
      "source": [
        "from wordcloud import WordCloud\n",
        "import konlpy\n",
        "import numpy as np\n",
        "import pandas as pd\n",
        "import re\n",
        "import matplotlib.pyplot as plt\n",
        "from PIL import Image                         # Pillow 패키지의 영상 핸들링 클래스.\n",
        "%matplotlib inline\n",
        "plt.rc('font', family='NanumBarunGothic') "
      ],
      "execution_count": null,
      "outputs": []
    },
    {
      "cell_type": "markdown",
      "metadata": {
        "id": "-LzYKK5qcc2d"
      },
      "source": [
        "#### 데이터 읽어오기:"
      ]
    },
    {
      "cell_type": "code",
      "metadata": {
        "id": "RUWirVr9cnxs"
      },
      "source": [
        "# 구글 드라이브 마운트.\n",
        "from google.colab import drive\n",
        "drive.mount('/content/drive')  # 절차를 따라서 한다."
      ],
      "execution_count": null,
      "outputs": []
    },
    {
      "cell_type": "code",
      "metadata": {
        "id": "J0eiDNMbcwi8"
      },
      "source": [
        "# 경로 이동.\n",
        "%cd \"/content/drive/MyDrive/GwangjuAI/modelling/notebook\""
      ],
      "execution_count": null,
      "outputs": []
    },
    {
      "cell_type": "code",
      "metadata": {
        "id": "oHT53j74cc2e"
      },
      "source": [
        "f = open(\"../data/example_seoul_government.txt\",'r',encoding=\"ms949\")  # Encoding 주의!!!\n",
        "my_text = f.readlines()\n",
        "f.close()"
      ],
      "execution_count": null,
      "outputs": []
    },
    {
      "cell_type": "code",
      "metadata": {
        "id": "8BbX7ExQcc2e"
      },
      "source": [
        "# 몇개만 출력해 본다.\n",
        "my_text[:10]"
      ],
      "execution_count": null,
      "outputs": []
    },
    {
      "cell_type": "markdown",
      "metadata": {
        "id": "NzFadUxXcc2f"
      },
      "source": [
        "#### 전처리:"
      ]
    },
    {
      "cell_type": "code",
      "metadata": {
        "id": "I_eum0RQcc2g"
      },
      "source": [
        "no_meaning = \"관련|요청|개선|건의|시장|민원|이용\"\n",
        "no_meaning += \"|관리|문제|불편|설치|불법|제안|필요\"\n",
        "no_meaning += \"|정책|언제|대책|서울시|서울|박원순|요망|부탁|주세요|의|대한\"\n",
        "my_text_clean = []\n",
        "for a_line in my_text:\n",
        "    a_line = re.sub('\\W+',' ', a_line)           # 특수 문자 스페이스로 대체.\n",
        "    a_line = re.sub('\\d+',' ', a_line)           # 수치 스페이스로 대체.\n",
        "    a_line = re.sub('[-!?()>~.,]',' ',a_line)    # 특수문자 스페이스로 대체.\n",
        "    a_line = re.sub('\\n',' ',a_line)             # line return 스페이스로 대체.\n",
        "    a_line = re.sub('[\\[\\]]', ' ',a_line)        # 대괄호 스페이스로 대체.\n",
        "    a_line = re.sub('[a-zA-Z]',' ',a_line)       # 영문 스페이스로 대체.\n",
        "    a_line = re.sub('ㅠ|ㅋ|ㅎ', ' ', a_line)     # 단모음, 단자음 스페이스로 대체.\n",
        "    a_line = re.sub(no_meaning, ' ', a_line)     # 특별한 의미 없는 단어 스페이스로 대체.\n",
        "    a_line = re.sub('\\s+', ' ', a_line)          # 잉여 스페이즈 줄임.\n",
        "#    my_text_clean += [a_line]\n",
        "    my_text_clean.append(a_line)"
      ],
      "execution_count": null,
      "outputs": []
    },
    {
      "cell_type": "code",
      "metadata": {
        "id": "9tSbmNoDcc2g"
      },
      "source": [
        "# 몇개만 출력해 본다.\n",
        "my_text_clean[:10]"
      ],
      "execution_count": null,
      "outputs": []
    },
    {
      "cell_type": "markdown",
      "metadata": {
        "id": "xXIxSKdxcc2h"
      },
      "source": [
        "#### 한글 단어(명사) 추출:"
      ]
    },
    {
      "cell_type": "code",
      "metadata": {
        "id": "6738NMxjcc2i"
      },
      "source": [
        "my_tagger = konlpy.tag.Okt()"
      ],
      "execution_count": null,
      "outputs": []
    },
    {
      "cell_type": "code",
      "metadata": {
        "id": "cXpt7vRJcc2i"
      },
      "source": [
        "# 명사 추출.\n",
        "my_words = []\n",
        "for a_line in my_text_clean:\n",
        "    my_words.extend( my_tagger.nouns(a_line) )"
      ],
      "execution_count": null,
      "outputs": []
    },
    {
      "cell_type": "code",
      "metadata": {
        "id": "vAfpyUQHcc2i"
      },
      "source": [
        "# 단음절 제거.\n",
        "my_words_2 = []\n",
        "for a_word in my_words:\n",
        "    if len(a_word) > 1:\n",
        "        my_words_2 += [a_word]"
      ],
      "execution_count": null,
      "outputs": []
    },
    {
      "cell_type": "code",
      "metadata": {
        "id": "6vOJZGr4cc2j"
      },
      "source": [
        "# 단음절 제거.\n",
        "# List comprehension 방법 사용.\n",
        "# my_words_2 = [a_word  for a_word in my_words if len(a_word) > 1]"
      ],
      "execution_count": null,
      "outputs": []
    },
    {
      "cell_type": "markdown",
      "metadata": {
        "id": "Ou-YWLOzcc2j"
      },
      "source": [
        "#### 키워드 추출 (Option):"
      ]
    },
    {
      "cell_type": "code",
      "metadata": {
        "id": "-tQ41iTFcc2j"
      },
      "source": [
        "# Series 로 변환.\n",
        "my_series = pd.Series(my_words_2)"
      ],
      "execution_count": null,
      "outputs": []
    },
    {
      "cell_type": "code",
      "metadata": {
        "id": "kavl71Zwcc2k"
      },
      "source": [
        "# 도수 분포표. Top 20\n",
        "my_word_counts = my_series.value_counts().sort_values(ascending=False)\n",
        "my_word_counts[:20]"
      ],
      "execution_count": null,
      "outputs": []
    },
    {
      "cell_type": "code",
      "metadata": {
        "id": "_7xhUH3rcc2k"
      },
      "source": [
        "# 딕셔너리로 변환해 둔다.\n",
        "my_dict = {}\n",
        "for an_index, a_value in zip(my_word_counts.index,my_word_counts.values):\n",
        "    my_dict[an_index] = a_value"
      ],
      "execution_count": null,
      "outputs": []
    },
    {
      "cell_type": "markdown",
      "metadata": {
        "id": "UTbbtfDjcc2k"
      },
      "source": [
        "#### 워드 클라우드 기본형 생성:"
      ]
    },
    {
      "cell_type": "code",
      "metadata": {
        "id": "7Spxv1FWcc2k"
      },
      "source": [
        "# 다음은 워드클라우드의 요구사항.\n",
        "a_long_sentence = ' '.join(my_words_2)"
      ],
      "execution_count": null,
      "outputs": []
    },
    {
      "cell_type": "code",
      "metadata": {
        "id": "tnRN4H6fcc2k"
      },
      "source": [
        "wc = WordCloud(font_path='/usr/share/fonts/truetype/nanum/NanumBarunGothic',background_color='white', max_words=30)              # 바탕색, 단어 개수 등 설정.\n",
        "wc.generate(a_long_sentence)\n",
        "#wc.generate_from_frequencies(my_dict)\n",
        "# wc.words_"
      ],
      "execution_count": null,
      "outputs": []
    },
    {
      "cell_type": "code",
      "metadata": {
        "id": "l-g_zDuCcc2l"
      },
      "source": [
        "plt.figure(figsize=(10,10))\n",
        "plt.imshow(wc)\n",
        "plt.axis(\"off\")                                    # 축을 꺼줌.\n",
        "plt.show()"
      ],
      "execution_count": null,
      "outputs": []
    },
    {
      "cell_type": "markdown",
      "metadata": {
        "id": "wiVkMz_Ucc2l"
      },
      "source": [
        "#### 워드 클라우드 마스크 사용형 생성:"
      ]
    },
    {
      "cell_type": "code",
      "metadata": {
        "id": "jHcn-5aNcc2l"
      },
      "source": [
        "# 백그라운드 마스크\n",
        "#img = Image.open('../data/background_1.png')                    # 타원형.\n",
        "#img = Image.open('../data/background_2.png')                   # 말풍선.\n",
        "img = Image.open('../data/background_3.png')                    # 하트.\n",
        "back_mask = np.array(img)"
      ],
      "execution_count": null,
      "outputs": []
    },
    {
      "cell_type": "code",
      "metadata": {
        "id": "8Kv8jnwCcc2l"
      },
      "source": [
        "wc = WordCloud(font_path='/usr/share/fonts/truetype/nanum/NanumBarunGothic',background_color='white', max_words=50, mask=back_mask)            # 바탕색, 단어 개수 등 설정.\n",
        "wc.generate(a_long_sentence) "
      ],
      "execution_count": null,
      "outputs": []
    },
    {
      "cell_type": "code",
      "metadata": {
        "id": "I5y-iYoGcc2l"
      },
      "source": [
        "plt.figure(figsize=(10,10))\n",
        "plt.imshow(wc) \n",
        "plt.axis(\"off\")                                    # 축을 꺼줌.\n",
        "plt.show()"
      ],
      "execution_count": null,
      "outputs": []
    },
    {
      "cell_type": "code",
      "metadata": {
        "id": "pFTFMoxGcc2l"
      },
      "source": [
        ""
      ],
      "execution_count": null,
      "outputs": []
    }
  ]
}