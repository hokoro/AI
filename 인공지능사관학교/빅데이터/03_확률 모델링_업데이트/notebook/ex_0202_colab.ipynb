{
  "nbformat": 4,
  "nbformat_minor": 0,
  "metadata": {
    "kernelspec": {
      "display_name": "Python 3",
      "language": "python",
      "name": "python3"
    },
    "language_info": {
      "codemirror_mode": {
        "name": "ipython",
        "version": 3
      },
      "file_extension": ".py",
      "mimetype": "text/x-python",
      "name": "python",
      "nbconvert_exporter": "python",
      "pygments_lexer": "ipython3",
      "version": "3.8.8"
    },
    "colab": {
      "name": "ex_0202_colab.ipynb",
      "provenance": [],
      "collapsed_sections": []
    }
  },
  "cells": [
    {
      "cell_type": "markdown",
      "metadata": {
        "id": "lEuMdRPeYZYO"
      },
      "source": [
        "### 워드클라우드 (영문)"
      ]
    },
    {
      "cell_type": "markdown",
      "metadata": {
        "id": "qSLUNpU2YZYR"
      },
      "source": [
        "#### 필요한 패키지 불러오기:"
      ]
    },
    {
      "cell_type": "code",
      "metadata": {
        "id": "5dL4pg1dYZYU"
      },
      "source": [
        "from wordcloud import WordCloud\n",
        "import numpy as np\n",
        "import pandas as pd\n",
        "import nltk                                   # Natural Language Tool Kit (영어).\n",
        "import re\n",
        "import matplotlib.pyplot as plt\n",
        "from PIL import Image                         # Pillow 패키지의 영상 핸들링 클래스.\n",
        "from nltk.corpus import stopwords             # 불용어.\n",
        "%matplotlib inline"
      ],
      "execution_count": null,
      "outputs": []
    },
    {
      "cell_type": "code",
      "metadata": {
        "id": "2sju6uGsZJ-Z"
      },
      "source": [
        "# 다음을 한번 실행한다!\n",
        "nltk.download('punkt')\n",
        "nltk.download('stopwords')"
      ],
      "execution_count": null,
      "outputs": []
    },
    {
      "cell_type": "markdown",
      "metadata": {
        "id": "iU6p18Y_YZYW"
      },
      "source": [
        "#### 데이터 읽어오기:"
      ]
    },
    {
      "cell_type": "code",
      "metadata": {
        "id": "bDQ9PBHLY3jY"
      },
      "source": [
        "# 구글 드라이브 마운트.\n",
        "from google.colab import drive\n",
        "drive.mount('/content/drive')  # 절차를 따라서 한다."
      ],
      "execution_count": null,
      "outputs": []
    },
    {
      "cell_type": "code",
      "metadata": {
        "id": "YW3-FMeyY4b-"
      },
      "source": [
        "# 경로 이동.\n",
        "%cd \"/content/drive/MyDrive/GwangjuAI/modelling/notebook\""
      ],
      "execution_count": null,
      "outputs": []
    },
    {
      "cell_type": "code",
      "metadata": {
        "id": "h9WSODyCYZYX"
      },
      "source": [
        "#f= open(\"../data/book_crime_and_punishment.txt\",'r',encoding='UTF-8')\n",
        "f = open(\"../data/book_three_little_pigs.txt\",'r',encoding='UTF-8')\n",
        "my_book = f.readlines()\n",
        "f.close()"
      ],
      "execution_count": null,
      "outputs": []
    },
    {
      "cell_type": "markdown",
      "metadata": {
        "id": "-273XSswYZYY"
      },
      "source": [
        "#### 전처리:"
      ]
    },
    {
      "cell_type": "code",
      "metadata": {
        "id": "8OYUO9rNYZYZ"
      },
      "source": [
        "n_min = 4                                                           # 최소 단어 길이. \n",
        "corpus = []\n",
        "for a_line in my_book:\n",
        "    pre = re.sub(r'\\W', ' ', a_line)                                # 특수문자 제외.\n",
        "    pre = re.sub(r'_', ' ', pre)                                    # 특수문자 제외.\n",
        "    pre = re.sub(r'\\d+','', pre)                                    # 수자 제외. \n",
        "    pre = nltk.word_tokenize(pre)                                   # 단어 단위로 분절.\n",
        "    pre = [x for x in pre if len(x) > n_min]                        # 최소 길이 충족.\n",
        "    pre = [x.lower() for x in pre]                                  # 소문자화.  정규화 (Normalization).\n",
        "    pre = [x for x in pre if x not in stopwords.words('english')+['could']]   # 불용어 처리.\n",
        "    corpus += pre                                                   # 단어를 말뭉치에 추가."
      ],
      "execution_count": null,
      "outputs": []
    },
    {
      "cell_type": "markdown",
      "metadata": {
        "id": "drZrYDLzYZYb"
      },
      "source": [
        "#### 키워드 추출 (Option):"
      ]
    },
    {
      "cell_type": "code",
      "metadata": {
        "id": "fqrHAodzYZYb"
      },
      "source": [
        "# Series 로 변환.\n",
        "my_series = pd.Series(corpus)"
      ],
      "execution_count": null,
      "outputs": []
    },
    {
      "cell_type": "code",
      "metadata": {
        "id": "s31I6qTtYZYc"
      },
      "source": [
        "# 도수 분포표. Top 10\n",
        "my_word_counts = my_series.value_counts().sort_values(ascending=False)\n",
        "my_word_counts[:10]"
      ],
      "execution_count": null,
      "outputs": []
    },
    {
      "cell_type": "code",
      "metadata": {
        "id": "DvyB9iarYZYc"
      },
      "source": [
        "# 딕셔너리로 변환해 둔다.\n",
        "my_dict = {}\n",
        "for an_index, a_value in zip(my_word_counts.index,my_word_counts.values):\n",
        "    my_dict[an_index] = a_value"
      ],
      "execution_count": null,
      "outputs": []
    },
    {
      "cell_type": "markdown",
      "metadata": {
        "id": "frfoG7gvYZYd"
      },
      "source": [
        "#### 워드 클라우드 기본형 생성:"
      ]
    },
    {
      "cell_type": "code",
      "metadata": {
        "id": "7GbGRERjYZYd"
      },
      "source": [
        "# 다음은 워드클라우드의 요구사항.\n",
        "a_long_sentence = ' '.join(corpus)"
      ],
      "execution_count": null,
      "outputs": []
    },
    {
      "cell_type": "code",
      "metadata": {
        "id": "2oAhb7DeYZYe"
      },
      "source": [
        "wc = WordCloud(background_color='white', max_words=30)              # 바탕색, 단어 개수 등 설정.\n",
        "wc.generate(a_long_sentence)\n",
        "#wc.generate_from_frequencies(my_dict)                              # 딕셔너리에서 생성.\n",
        "#wc.words_                                                          # 단어 사전 출력."
      ],
      "execution_count": null,
      "outputs": []
    },
    {
      "cell_type": "code",
      "metadata": {
        "id": "YJ01jiHkYZYe"
      },
      "source": [
        "plt.figure(figsize=(10,10))\n",
        "plt.imshow(wc)\n",
        "plt.axis(\"off\")                                    # 축을 꺼줌.\n",
        "plt.show()"
      ],
      "execution_count": null,
      "outputs": []
    },
    {
      "cell_type": "markdown",
      "metadata": {
        "id": "lPx04G6hYZYe"
      },
      "source": [
        "#### 워드 클라우드 마스크 사용형 생성:"
      ]
    },
    {
      "cell_type": "code",
      "metadata": {
        "id": "QPlkgujpYZYf"
      },
      "source": [
        "# 백그라운드 마스크\n",
        "#img = Image.open('../data/background_1.png')                    # 타원형.\n",
        "#img = Image.open('../data/background_2.png')                   # 말풍선.\n",
        "img = Image.open('../data/background_3.png')                    # 하트.\n",
        "#plt.imshow(img)\n",
        "#plt.show()\n",
        "back_mask = np.array(img)"
      ],
      "execution_count": null,
      "outputs": []
    },
    {
      "cell_type": "code",
      "metadata": {
        "id": "nd7uQXwyYZYf"
      },
      "source": [
        "wc = WordCloud(background_color='white', max_words=30, mask=back_mask)            # 바탕색, 단어 개수 등 설정.\n",
        "wc.generate(a_long_sentence);                                                      # 긴 문자열에서 생성.\n",
        "#wc.generate_from_frequencies(my_dict);                                            # 딕셔너리에서 생성."
      ],
      "execution_count": null,
      "outputs": []
    },
    {
      "cell_type": "code",
      "metadata": {
        "scrolled": true,
        "id": "b5JvdTsWYZYf"
      },
      "source": [
        "plt.figure(figsize=(10,10))\n",
        "plt.imshow(wc)\n",
        "plt.axis(\"off\")                                    # 축을 꺼줌.\n",
        "plt.show()"
      ],
      "execution_count": null,
      "outputs": []
    }
  ]
}