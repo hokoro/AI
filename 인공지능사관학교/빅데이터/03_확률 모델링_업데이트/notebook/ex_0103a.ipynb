{
 "cells": [
  {
   "cell_type": "markdown",
   "id": "027ec45f",
   "metadata": {},
   "source": [
    "### 은닉 마르코프 모형 (HMM) - 기초"
   ]
  },
  {
   "cell_type": "markdown",
   "id": "0640547d",
   "metadata": {},
   "source": [
    "강의 슬라이드의 HMM 모형을 만들어 본다. "
   ]
  },
  {
   "cell_type": "markdown",
   "id": "f8f46dae",
   "metadata": {},
   "source": [
    "<img src=\"./fig_00.png\" width=\"300\"> </img>"
   ]
  },
  {
   "cell_type": "code",
   "execution_count": null,
   "id": "3d455870",
   "metadata": {},
   "outputs": [],
   "source": [
    "# 다음 라이브러리를 설치한다.\n",
    "# !pip install pomegranate"
   ]
  },
  {
   "cell_type": "code",
   "execution_count": null,
   "id": "bd01bab1",
   "metadata": {},
   "outputs": [],
   "source": [
    "# 라이브러리를 불러온다.\n",
    "import numpy as np\n",
    "from pomegranate import State, HiddenMarkovModel, DiscreteDistribution"
   ]
  },
  {
   "cell_type": "markdown",
   "id": "e9cc4beb",
   "metadata": {},
   "source": [
    "#### 1. 모델 파라미터 설정:"
   ]
  },
  {
   "cell_type": "markdown",
   "id": "50ea5d7f",
   "metadata": {},
   "source": [
    "1.1. 상태의 초기 확률 (Initial Probabilities):\n",
    "\n",
    "|        | Prob |\n",
    "|: --- :|: --- :|\n",
    "| $Sunny$  | 0.50 |\n",
    "|$Rainny$  | 0.50 |"
   ]
  },
  {
   "cell_type": "markdown",
   "id": "9dc00145",
   "metadata": {},
   "source": [
    "1.2. 전이 확률 (Transition Probabilities):\n",
    "\n",
    "|   | $Sunny$ | $Rainny$ |\n",
    "|:---:|:---:|:---:|\n",
    "|$Sunny$| 0.80 | 0.40 |\n",
    "|$Rainny$| 0.20 | 0.60 | "
   ]
  },
  {
   "cell_type": "markdown",
   "id": "705925b7",
   "metadata": {},
   "source": [
    "1.3. 출력 확률 (Emission Probabilities):\n",
    "\n",
    "|    |  $Sunny$  | $Rainny$ |\n",
    "|: ---: |: --- :|: ---: |\n",
    "| $Game$ |   0.10  | 0.80 |\n",
    "| $Fitness$ | 0.90 | 0.20 |\n"
   ]
  },
  {
   "cell_type": "markdown",
   "id": "8e789b5c",
   "metadata": {},
   "source": [
    "#### 2. 모델 생성:"
   ]
  },
  {
   "cell_type": "code",
   "execution_count": null,
   "id": "95b6cf75",
   "metadata": {},
   "outputs": [],
   "source": [
    "# 모델 생성.\n",
    "my_hmm = HiddenMarkovModel(name=\"my_model\")"
   ]
  },
  {
   "cell_type": "code",
   "execution_count": null,
   "id": "0cbb300c",
   "metadata": {},
   "outputs": [],
   "source": [
    "# 상태와 출력확률 P(O | S) 설정.\n",
    "Sunny_emissions = DiscreteDistribution({\"Game\": 0.1, \"Fitness\": 0.9})\n",
    "Sunny_state = State(Sunny_emissions, name=\"Sunny_state\")\n",
    "\n",
    "Rainny_emissions = DiscreteDistribution({\"Game\": 0.8, \"Fitness\": 0.2})\n",
    "Rainny_state = State(Rainny_emissions, name=\"Rainny_state\")\n",
    "\n",
    "# 모델에 상태 추가.\n",
    "my_hmm.add_states(Sunny_state)\n",
    "my_hmm.add_states(Rainny_state)"
   ]
  },
  {
   "cell_type": "code",
   "execution_count": null,
   "id": "b48e555f",
   "metadata": {},
   "outputs": [],
   "source": [
    "# 초기 확률 설정.\n",
    "my_hmm.add_transition(my_hmm.start, Sunny_state, 0.5)\n",
    "my_hmm.add_transition(my_hmm.start, Rainny_state, 0.5)"
   ]
  },
  {
   "cell_type": "code",
   "execution_count": null,
   "id": "a8e49795",
   "metadata": {},
   "outputs": [],
   "source": [
    "# 전이 확률 P(S'|S) 설정.\n",
    "my_hmm.add_transition(Sunny_state, Sunny_state, 0.8)  # 80% Sunny -> Sunny\n",
    "my_hmm.add_transition(Sunny_state, Rainny_state, 0.2)  # 20% Sunny -> Rainny\n",
    "\n",
    "my_hmm.add_transition(Rainny_state, Sunny_state, 0.4)  # 40% Rainny -> Sunny\n",
    "my_hmm.add_transition(Rainny_state, Rainny_state, 0.6)  # 60% Rainny -> Sunny"
   ]
  },
  {
   "cell_type": "code",
   "execution_count": null,
   "id": "ea3836bd",
   "metadata": {},
   "outputs": [],
   "source": [
    "# 모델 최종 완성.\n",
    "my_hmm.bake()"
   ]
  },
  {
   "cell_type": "code",
   "execution_count": null,
   "id": "0475d818",
   "metadata": {},
   "outputs": [],
   "source": [
    "# 모델의 구조 출력.\n",
    "print(\"Edge counts: \",my_hmm.edge_count()) \n",
    "print(\"Node counts: \",my_hmm.node_count()) "
   ]
  },
  {
   "cell_type": "code",
   "execution_count": null,
   "id": "a5f33e62",
   "metadata": {},
   "outputs": [],
   "source": [
    "# 입력된 상태의 이름 확인.\n",
    "for s in my_hmm.states:\n",
    "    print(s.name)"
   ]
  },
  {
   "cell_type": "markdown",
   "id": "24204864",
   "metadata": {},
   "source": [
    "#### 3. 모델을 사용한 예측 (Inference):"
   ]
  },
  {
   "cell_type": "code",
   "execution_count": null,
   "id": "2e37b337",
   "metadata": {},
   "outputs": [],
   "source": [
    "# 다음과 같은 시퀀스가 관찰 되었다 전제한다.\n",
    "observations = [\"Game\", \"Fitness\", \"Game\"]"
   ]
  },
  {
   "cell_type": "code",
   "execution_count": null,
   "id": "a15ee8a0",
   "metadata": {},
   "outputs": [],
   "source": [
    "# Viterbi 알고리즘으로 가장 우도 (likelihood)가 높은 경로를 계산한다.\n",
    "viterbi_likelihood, viterbi_path = my_hmm.viterbi(observations)"
   ]
  },
  {
   "cell_type": "code",
   "execution_count": null,
   "id": "91cf10d8",
   "metadata": {},
   "outputs": [],
   "source": [
    "# The likely weather.\n",
    "weather_pred = []\n",
    "for s in viterbi_path[1:]:\n",
    "    weather_pred.append(s[1].name)\n",
    "print(\"제일 유력한 날씨 : {}\".format(weather_pred))\n",
    "print(\"우도 함수의 값   : {:0.4f}\".format(np.exp(viterbi_likelihood)))"
   ]
  },
  {
   "cell_type": "code",
   "execution_count": null,
   "id": "907c4a22",
   "metadata": {},
   "outputs": [],
   "source": []
  }
 ],
 "metadata": {
  "kernelspec": {
   "display_name": "Python 3",
   "language": "python",
   "name": "python3"
  },
  "language_info": {
   "codemirror_mode": {
    "name": "ipython",
    "version": 3
   },
   "file_extension": ".py",
   "mimetype": "text/x-python",
   "name": "python",
   "nbconvert_exporter": "python",
   "pygments_lexer": "ipython3",
   "version": "3.8.8"
  }
 },
 "nbformat": 4,
 "nbformat_minor": 5
}
