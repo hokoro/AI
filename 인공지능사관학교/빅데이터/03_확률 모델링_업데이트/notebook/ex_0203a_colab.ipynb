{
  "nbformat": 4,
  "nbformat_minor": 0,
  "metadata": {
    "kernelspec": {
      "display_name": "Python 3",
      "language": "python",
      "name": "python3"
    },
    "language_info": {
      "codemirror_mode": {
        "name": "ipython",
        "version": 3
      },
      "file_extension": ".py",
      "mimetype": "text/x-python",
      "name": "python",
      "nbconvert_exporter": "python",
      "pygments_lexer": "ipython3",
      "version": "3.8.8"
    },
    "colab": {
      "name": "ex_0203a_colab.ipynb",
      "provenance": [],
      "collapsed_sections": []
    }
  },
  "cells": [
    {
      "cell_type": "markdown",
      "metadata": {
        "id": "bN3kVGXAZyJ9"
      },
      "source": [
        "### 한글 사용:"
      ]
    },
    {
      "cell_type": "code",
      "metadata": {
        "id": "onGoCAlFZyKA"
      },
      "source": [
        "# 한글 분석 라이브러리 설치.\n",
        "!pip install konlpy"
      ],
      "execution_count": null,
      "outputs": []
    },
    {
      "cell_type": "code",
      "metadata": {
        "id": "WyMXI_6WZ7EM"
      },
      "source": [
        "import konlpy"
      ],
      "execution_count": null,
      "outputs": []
    },
    {
      "cell_type": "markdown",
      "metadata": {
        "id": "YFgaMratZyKC"
      },
      "source": [
        "KoNLPy 패키지는 꼬꼬마, 한나눔, 트위터 (Okt), Mecab (MacOs) 분석기를 제공한다. 서로 약간의 차이점이 있으니 다음과 같이 비교해 본다. "
      ]
    },
    {
      "cell_type": "markdown",
      "metadata": {
        "id": "JHVwUPSdZyKC"
      },
      "source": [
        "#### 꼬꼬마 분석기:"
      ]
    },
    {
      "cell_type": "code",
      "metadata": {
        "id": "Akm6WOqLZyKD"
      },
      "source": [
        "# 꼬꼬마 분석기 객체를 가져와서 분석 준비를 한다. 대문자 주의!!!\n",
        "kkma = konlpy.tag.Kkma()"
      ],
      "execution_count": null,
      "outputs": []
    },
    {
      "cell_type": "code",
      "metadata": {
        "id": "xIYatMDFZyKD"
      },
      "source": [
        "my_text = \"한국어를 사용해 봅시다 너무 재미있어요 함께 분석해 볼까요?\""
      ],
      "execution_count": null,
      "outputs": []
    },
    {
      "cell_type": "code",
      "metadata": {
        "id": "Abo17SI4ZyKE"
      },
      "source": [
        "# 문장 단위로 분절.\n",
        "kkma.sentences(my_text)"
      ],
      "execution_count": null,
      "outputs": []
    },
    {
      "cell_type": "code",
      "metadata": {
        "id": "4AZHjwMSZyKF"
      },
      "source": [
        "# 명사 추출.\n",
        "kkma.nouns(my_text)"
      ],
      "execution_count": null,
      "outputs": []
    },
    {
      "cell_type": "code",
      "metadata": {
        "id": "ZD6Xq-08ZyKG"
      },
      "source": [
        "# 형태소 (분절).\n",
        "print(kkma.morphs(my_text))"
      ],
      "execution_count": null,
      "outputs": []
    },
    {
      "cell_type": "code",
      "metadata": {
        "id": "2bMh00KKZyKG"
      },
      "source": [
        "# 품사 태깅 (Part of Speech Tagging).\n",
        "print(kkma.pos(my_text))  "
      ],
      "execution_count": null,
      "outputs": []
    },
    {
      "cell_type": "markdown",
      "metadata": {
        "id": "8IBA1MO_ZyKG"
      },
      "source": [
        "#### 한나눔 분석기:"
      ]
    },
    {
      "cell_type": "code",
      "metadata": {
        "id": "gP3Hsx5TZyKH"
      },
      "source": [
        "# 한나눔 분석기 객체를 가져와서 분석 준비를 한다. 대문자 주의!\n",
        "hannanum = konlpy.tag.Hannanum()"
      ],
      "execution_count": null,
      "outputs": []
    },
    {
      "cell_type": "code",
      "metadata": {
        "id": "0LfO6y4dZyKH"
      },
      "source": [
        "# 명사 추출.\n",
        "hannanum.nouns(my_text)"
      ],
      "execution_count": null,
      "outputs": []
    },
    {
      "cell_type": "code",
      "metadata": {
        "id": "Y-SiPruNZyKH"
      },
      "source": [
        "# 형태소 (분절).\n",
        "print(hannanum.morphs(my_text))"
      ],
      "execution_count": null,
      "outputs": []
    },
    {
      "cell_type": "code",
      "metadata": {
        "id": "43XPfdirZyKI"
      },
      "source": [
        "# 품사 태깅.\n",
        "print(hannanum.pos(my_text))"
      ],
      "execution_count": null,
      "outputs": []
    },
    {
      "cell_type": "markdown",
      "metadata": {
        "id": "RSVP-MZTZyKI"
      },
      "source": [
        "#### 트위터 분석기:"
      ]
    },
    {
      "cell_type": "code",
      "metadata": {
        "id": "vM53RBmGZyKI"
      },
      "source": [
        "# 트위터 분석기 객체를 가져와서 분석 준비를 한다. 대문자 주의!\n",
        "okt = konlpy.tag.Okt()"
      ],
      "execution_count": null,
      "outputs": []
    },
    {
      "cell_type": "code",
      "metadata": {
        "id": "dRG2j1zrZyKI"
      },
      "source": [
        "# 명사 추출.\n",
        "okt.nouns(my_text)"
      ],
      "execution_count": null,
      "outputs": []
    },
    {
      "cell_type": "code",
      "metadata": {
        "id": "I4rYpaT7ZyKI"
      },
      "source": [
        "# 형태소 (분절).\n",
        "print(okt.morphs(my_text))"
      ],
      "execution_count": null,
      "outputs": []
    },
    {
      "cell_type": "code",
      "metadata": {
        "id": "BAUoTj6EZyKI"
      },
      "source": [
        "# 품사 태깅.\n",
        "print(okt.pos(my_text))"
      ],
      "execution_count": null,
      "outputs": []
    },
    {
      "cell_type": "code",
      "metadata": {
        "id": "2WdOIo3bZyKJ"
      },
      "source": [
        ""
      ],
      "execution_count": null,
      "outputs": []
    },
    {
      "cell_type": "code",
      "metadata": {
        "id": "ziZfLw3TZyKJ"
      },
      "source": [
        ""
      ],
      "execution_count": null,
      "outputs": []
    }
  ]
}