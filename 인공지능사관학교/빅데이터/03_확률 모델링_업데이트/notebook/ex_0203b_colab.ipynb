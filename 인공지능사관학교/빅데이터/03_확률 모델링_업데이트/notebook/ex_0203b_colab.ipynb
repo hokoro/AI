{
 "cells": [
  {
   "cell_type": "markdown",
   "metadata": {
    "id": "IHKC1mySadr6"
   },
   "source": [
    "### 한글 분석기 비교."
   ]
  },
  {
   "cell_type": "markdown",
   "metadata": {
    "id": "mRKckIe5adr8"
   },
   "source": [
    "#### 1. 형태소 분석기 (복습)."
   ]
  },
  {
   "cell_type": "markdown",
   "metadata": {
    "id": "WJEMeU-Sadr9"
   },
   "source": [
    "트위터 형태소 분석기 사용."
   ]
  },
  {
   "cell_type": "code",
   "execution_count": null,
   "metadata": {
    "id": "QHO5Dr8FaicO"
   },
   "outputs": [],
   "source": [
    "# 한글 분석 라이브러리 설치.\n",
    "!pip install konlpy"
   ]
  },
  {
   "cell_type": "code",
   "execution_count": null,
   "metadata": {
    "id": "w9qWpQ-dadr9"
   },
   "outputs": [],
   "source": [
    "from konlpy.tag import Okt   \n",
    "okt=Okt()   \n",
    "print(okt.morphs(\"멋쟁이사자처럼과 함께 코딩을 배워 보아요\", stem=True))   # 어간추출 적용한 토큰화."
   ]
  },
  {
   "cell_type": "code",
   "execution_count": null,
   "metadata": {
    "id": "56LOUqHRadr-"
   },
   "outputs": [],
   "source": [
    "print(okt.nouns(\"멋쟁이사자처럼과 함께 코딩을 배워 보아요\"))  "
   ]
  },
  {
   "cell_type": "code",
   "execution_count": null,
   "metadata": {
    "id": "A9MHswNzadr_"
   },
   "outputs": [],
   "source": [
    "print(okt.pos(\"멋쟁이사자처럼과 함께 코딩을 배워 보아요\", stem=True))  # 어간추출 적용한 형태소 분석."
   ]
  },
  {
   "cell_type": "markdown",
   "metadata": {
    "id": "dR54Dud2adr_"
   },
   "source": [
    "꼬꼬마 형태소 분석기 사용."
   ]
  },
  {
   "cell_type": "code",
   "execution_count": null,
   "metadata": {
    "id": "oz7OANe0adsA"
   },
   "outputs": [],
   "source": [
    "from konlpy.tag import Kkma   \n",
    "kkma=Kkma()   \n",
    "print(kkma.morphs(\"멋쟁이사자처럼과 함께 코딩을 배워 보아요\")) "
   ]
  },
  {
   "cell_type": "code",
   "execution_count": null,
   "metadata": {
    "id": "XcazxAMQadsB"
   },
   "outputs": [],
   "source": [
    "print(kkma.nouns(\"멋쟁이사자처럼과 함께 코딩을 배워 보아요\"))   "
   ]
  },
  {
   "cell_type": "code",
   "execution_count": null,
   "metadata": {
    "id": "tQYRLHssadsC"
   },
   "outputs": [],
   "source": [
    "print(kkma.pos(\"멋쟁이사자처럼과 함께 코딩을 배워 보아요\"))  "
   ]
  },
  {
   "cell_type": "markdown",
   "metadata": {
    "id": "XhLDHtBSadsC"
   },
   "source": [
    "#### 2. 한글 철차법 체커: Py-Hanspell."
   ]
  },
  {
   "cell_type": "code",
   "execution_count": null,
   "metadata": {
    "id": "gL0ekYugadsC"
   },
   "outputs": [],
   "source": [
    "# 다음을 실행해서 Github에서 가져다 설치할 수 있다.\n",
    "!pip install git+https://github.com/ssut/py-hanspell.git"
   ]
  },
  {
   "cell_type": "code",
   "execution_count": null,
   "metadata": {
    "id": "fpAMfFZNadsD"
   },
   "outputs": [],
   "source": [
    "from hanspell import spell_checker"
   ]
  },
  {
   "cell_type": "code",
   "execution_count": null,
   "metadata": {
    "id": "1vv05hnxadsD"
   },
   "outputs": [],
   "source": [
    "my_sentence = \"철자법틀리면않돼나? 지금문장이상하다.\"\n",
    "my_sentence_corrected = spell_checker.check(my_sentence).checked\n",
    "print(my_sentence_corrected)      "
   ]
  },
  {
   "cell_type": "markdown",
   "metadata": {
    "id": "dl6KHq6GadsD"
   },
   "source": [
    "#### 3. Customized KoNLPy."
   ]
  },
  {
   "cell_type": "code",
   "execution_count": null,
   "metadata": {
    "id": "B0ACW1gFadsD"
   },
   "outputs": [],
   "source": [
    "# 다음과 같이 손쉽게 설치할 수 있다.\n",
    "!pip install customized_konlpy"
   ]
  },
  {
   "cell_type": "code",
   "execution_count": 1,
   "metadata": {
    "id": "KjtkqHynadsE"
   },
   "outputs": [
    {
     "name": "stderr",
     "output_type": "stream",
     "text": [
      "C:\\Users\\USER\\anaconda3\\lib\\site-packages\\konlpy\\tag\\_okt.py:16: UserWarning: \"Twitter\" has changed to \"Okt\" since KoNLPy v0.4.5.\n",
      "  warn('\"Twitter\" has changed to \"Okt\" since KoNLPy v0.4.5.')\n"
     ]
    },
    {
     "name": "stdout",
     "output_type": "stream",
     "text": [
      "['멋쟁이', '사자', '처럼과', '함께', '코딩', '을', '배워', '보아', '요']\n"
     ]
    }
   ],
   "source": [
    "from ckonlpy.tag import Twitter        \n",
    "my_twitter=Twitter()   \n",
    "print(my_twitter.morphs(\"멋쟁이사자처럼과 함께 코딩을 배워 보아요\")) "
   ]
  },
  {
   "cell_type": "code",
   "execution_count": null,
   "metadata": {
    "id": "z8tz5x2OadsE"
   },
   "outputs": [],
   "source": [
    "print(my_twitter.pos(\"멋쟁이사자처럼과 함께 코딩을 배워 보아요\")) "
   ]
  },
  {
   "cell_type": "code",
   "execution_count": null,
   "metadata": {
    "id": "tNZGKfIKadsE"
   },
   "outputs": [],
   "source": [
    "# 단어를 사전에 추가한다.\n",
    "my_twitter.add_dictionary('멋쟁이사자처럼', 'Noun')"
   ]
  },
  {
   "cell_type": "code",
   "execution_count": null,
   "metadata": {
    "id": "FFuThVLDadsE"
   },
   "outputs": [],
   "source": [
    "# 다시 실행.\n",
    "print(my_twitter.morphs(\"멋쟁이사자처럼과 함께 코딩을 배워 보아요\")) "
   ]
  },
  {
   "cell_type": "code",
   "execution_count": null,
   "metadata": {
    "id": "leREc7fCadsE"
   },
   "outputs": [],
   "source": [
    "# 다시 실행.\n",
    "print(my_twitter.pos(\"멋쟁이사자처럼과 함께 코딩을 배워 보아요\")) "
   ]
  },
  {
   "cell_type": "code",
   "execution_count": null,
   "metadata": {
    "id": "hHe_Y8lfadsF"
   },
   "outputs": [],
   "source": []
  }
 ],
 "metadata": {
  "colab": {
   "name": "ex_0203b_colab.ipynb",
   "provenance": []
  },
  "kernelspec": {
   "display_name": "Python 3",
   "language": "python",
   "name": "python3"
  },
  "language_info": {
   "codemirror_mode": {
    "name": "ipython",
    "version": 3
   },
   "file_extension": ".py",
   "mimetype": "text/x-python",
   "name": "python",
   "nbconvert_exporter": "python",
   "pygments_lexer": "ipython3",
   "version": "3.8.8"
  }
 },
 "nbformat": 4,
 "nbformat_minor": 1
}
