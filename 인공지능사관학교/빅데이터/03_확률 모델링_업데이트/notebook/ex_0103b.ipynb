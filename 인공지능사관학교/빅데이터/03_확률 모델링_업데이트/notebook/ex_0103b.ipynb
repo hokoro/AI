{
 "cells": [
  {
   "cell_type": "markdown",
   "id": "027ec45f",
   "metadata": {},
   "source": [
    "### HMM과 품사 태깅"
   ]
  },
  {
   "cell_type": "markdown",
   "id": "ba322103",
   "metadata": {},
   "source": [
    "간단한 품사 태깅 모형을 만들어서 원리를 알아본다."
   ]
  },
  {
   "cell_type": "code",
   "execution_count": null,
   "id": "3d455870",
   "metadata": {},
   "outputs": [],
   "source": [
    "# 다음 라이브러리를 설치한다.\n",
    "# !pip install pomegranate"
   ]
  },
  {
   "cell_type": "code",
   "execution_count": null,
   "id": "bd01bab1",
   "metadata": {},
   "outputs": [],
   "source": [
    "# 라이브러리를 불러온다.\n",
    "import numpy as np\n",
    "import pandas as pd\n",
    "import nltk\n",
    "from pomegranate import State, HiddenMarkovModel, DiscreteDistribution"
   ]
  },
  {
   "cell_type": "code",
   "execution_count": null,
   "id": "81d68672",
   "metadata": {},
   "outputs": [],
   "source": [
    "# 다음 데이터를 내려 받는다.\n",
    "# nltk.download('averaged_perceptron_tagger')"
   ]
  },
  {
   "cell_type": "code",
   "execution_count": null,
   "id": "802a65da",
   "metadata": {},
   "outputs": [],
   "source": [
    "pd.set_option(\"precision\",2)"
   ]
  },
  {
   "cell_type": "markdown",
   "id": "bd6f4d0f",
   "metadata": {},
   "source": [
    "#### 1. 자연어 데이터: "
   ]
  },
  {
   "cell_type": "code",
   "execution_count": null,
   "id": "6c409168",
   "metadata": {},
   "outputs": [],
   "source": [
    "# 태깅된 학습 데이터.\n",
    "# 태그는 단 3가지만 사용한다: N = 명사, M = 조동사, V = 동사.\n",
    "my_tagged_sentences =[\n",
    "   [ (\"John\",\"N\"), (\"Paul\", \"N\"), (\"can\", \"M\"), (\"see\",\"V\"), (\"Sarah\", \"N\")],\n",
    "   [ (\"Sarah\", \"N\"), (\"will\", \"M\"), (\"meet\", \"V\"), (\"Mary\", \"N\")],\n",
    "   [ (\"Will\", \"N\"), (\"can\", \"M\"), (\"meet\", \"V\"), (\"Mary\",\"N\")],\n",
    "   [ (\"Mary\", \"N\"), (\"can\", \"M\"), (\"see\", \"V\"), (\"John\", \"N\")]    \n",
    "]"
   ]
  },
  {
   "cell_type": "code",
   "execution_count": null,
   "id": "cdd570ff",
   "metadata": {},
   "outputs": [],
   "source": [
    "# 문장들을 출력해 본다.\n",
    "for a_line in my_tagged_sentences:\n",
    "    text = \"\"\n",
    "    for a_word, a_tag in a_line:        \n",
    "        text += f\"{a_word}({a_tag}) \"   \n",
    "    print(text)"
   ]
  },
  {
   "cell_type": "code",
   "execution_count": null,
   "id": "cfa33598",
   "metadata": {},
   "outputs": [],
   "source": [
    "# 정규화 전처리.\n",
    "temp = []\n",
    "for a_line in my_tagged_sentences:\n",
    "    temp.append( [ (a_word.lower(), a_tag) for a_word, a_tag in a_line] )\n",
    "my_tagged_sentences = temp                             # 대체.\n",
    "my_tagged_sentences"
   ]
  },
  {
   "cell_type": "code",
   "execution_count": null,
   "id": "32c183f5",
   "metadata": {},
   "outputs": [],
   "source": [
    "# Sentence와 Tag분리.\n",
    "my_sentences = []\n",
    "my_taggs = []\n",
    "for a_line in my_tagged_sentences:\n",
    "    sentences = []\n",
    "    taggs = []\n",
    "    for a_word, a_tag in a_line:\n",
    "        sentences.append(a_word)\n",
    "        taggs.append(a_tag)\n",
    "    my_sentences.append(sentences)\n",
    "    my_taggs.append(taggs)"
   ]
  },
  {
   "cell_type": "code",
   "execution_count": null,
   "id": "06c5bd76",
   "metadata": {},
   "outputs": [],
   "source": [
    "# 출력해 본다.\n",
    "my_sentences"
   ]
  },
  {
   "cell_type": "code",
   "execution_count": null,
   "id": "189618a0",
   "metadata": {},
   "outputs": [],
   "source": [
    "# 출력해 본다.\n",
    "my_taggs"
   ]
  },
  {
   "cell_type": "markdown",
   "id": "e9cc4beb",
   "metadata": {},
   "source": [
    "#### 2. 모델 파라미터 산정:"
   ]
  },
  {
   "cell_type": "markdown",
   "id": "50ea5d7f",
   "metadata": {},
   "source": [
    "2.1. 상태의 초기 확률 (Initial Probabilities):"
   ]
  },
  {
   "cell_type": "code",
   "execution_count": null,
   "id": "770008c0",
   "metadata": {},
   "outputs": [],
   "source": [
    "# 태그의 도수 집계.\n",
    "my_dict = {}\n",
    "for a_line in my_taggs:\n",
    "    for a_tag in a_line:\n",
    "        if a_tag not in my_dict:\n",
    "            my_dict[a_tag] = 1\n",
    "        else:\n",
    "            my_dict[a_tag] += 1\n",
    "state_freqs = pd.Series(my_dict)\n",
    "state_probs = state_freqs/state_freqs.sum()\n",
    "state_probs"
   ]
  },
  {
   "cell_type": "markdown",
   "id": "9dc00145",
   "metadata": {},
   "source": [
    "2.2. 전이 확률 (Transition Probabilities):"
   ]
  },
  {
   "cell_type": "code",
   "execution_count": null,
   "id": "6a5c8837",
   "metadata": {},
   "outputs": [],
   "source": [
    "# Bigram을 바탕으로 집계한다.\n",
    "my_dict = {}\n",
    "for a_line in my_taggs:\n",
    "    for i in range(len(a_line)-1):\n",
    "        tag_1 = a_line[i]                         # Bigram의 앞에 있는 tag (tag_1).\n",
    "        tag_2 = a_line[i+1]                       # Bigram의 뒤에 있는 tag (tag_2).\n",
    "        if tag_1 not in my_dict.keys():\n",
    "            my_dict[tag_1] =  {tag_2: 1}         # word_1은 새로운 key. 딕셔너리에 처음 입력.\n",
    "        else:\n",
    "            if tag_2 not in my_dict[tag_1]:\n",
    "                my_dict[tag_1][tag_2] = 1\n",
    "            else:\n",
    "                my_dict[tag_1][tag_2] += 1\n",
    "my_dict"
   ]
  },
  {
   "cell_type": "code",
   "execution_count": null,
   "id": "259acc85",
   "metadata": {},
   "outputs": [],
   "source": [
    "# 전이 횟수 계산.\n",
    "transition_freqs = pd.DataFrame(my_dict).fillna(value=0).astype(int)\n",
    "transition_freqs"
   ]
  },
  {
   "cell_type": "code",
   "execution_count": null,
   "id": "8aa3e3d4",
   "metadata": {},
   "outputs": [],
   "source": [
    "# 전이 확률 계산.\n",
    "transition_prob = transition_freqs/transition_freqs.sum(axis=0).values.reshape(1,-1)\n",
    "transition_prob"
   ]
  },
  {
   "cell_type": "markdown",
   "id": "705925b7",
   "metadata": {},
   "source": [
    "2.3. 출력 확률 (Emission Probabilities):"
   ]
  },
  {
   "cell_type": "code",
   "execution_count": null,
   "id": "f67bd665",
   "metadata": {},
   "outputs": [],
   "source": [
    "my_dict = {}\n",
    "for a_line in my_tagged_sentences:\n",
    "    for a_word, a_tag in a_line:\n",
    "        if a_word in my_dict:                 # 단어가 이미 딕셔너리의 키로 들어가 있는 경우.\n",
    "            if a_tag in my_dict[a_word]:      # 태그도 이미 서브 딕셔너리의 기록되어 있는 경우.\n",
    "                my_dict[a_word][a_tag] +=1    \n",
    "            else:\n",
    "                my_dict[a_word][a_tag] = 1\n",
    "        else:\n",
    "            my_dict[a_word] = {a_tag: 1}"
   ]
  },
  {
   "cell_type": "code",
   "execution_count": null,
   "id": "57f19db5",
   "metadata": {},
   "outputs": [],
   "source": [
    "# 출력 횟수 계산.\n",
    "emission_freqs = pd.DataFrame(my_dict).fillna(value=0).T\n",
    "emission_freqs"
   ]
  },
  {
   "cell_type": "code",
   "execution_count": null,
   "id": "0de74a5e",
   "metadata": {},
   "outputs": [],
   "source": [
    "# 출력 확률 계산.\n",
    "emission_prob = (emission_freqs/emission_freqs.sum(axis=0).values.reshape(1,-11))\n",
    "emission_prob"
   ]
  },
  {
   "cell_type": "markdown",
   "id": "8e789b5c",
   "metadata": {},
   "source": [
    "#### 3. 모델 생성:"
   ]
  },
  {
   "cell_type": "code",
   "execution_count": null,
   "id": "95b6cf75",
   "metadata": {},
   "outputs": [],
   "source": [
    "# 모델 생성.\n",
    "my_hmm = HiddenMarkovModel(name=\"my_pos_tagger\")"
   ]
  },
  {
   "cell_type": "code",
   "execution_count": null,
   "id": "02134ede",
   "metadata": {},
   "outputs": [],
   "source": [
    "# 출력확률 P(O | S) 설정.\n",
    "my_states = {}\n",
    "for a_col in emission_prob.columns:         # 컬럼 이름 = 상태 S.\n",
    "    emissions = DiscreteDistribution(dict(emission_prob[a_col]))  # <= P(O|S) 를 딕셔너리 행태로 가져와서 사용한다!\n",
    "    state = State(emissions, name=a_col)    # 상태 생성.\n",
    "    my_states[a_col] = state\n",
    "    my_hmm.add_states(state)                # 모델에 상태 추가."
   ]
  },
  {
   "cell_type": "code",
   "execution_count": null,
   "id": "b48e555f",
   "metadata": {},
   "outputs": [],
   "source": [
    "# 초기 확률 설정.\n",
    "for a_tag_name, a_state in zip(my_states.keys(), my_states.values()):         \n",
    "    my_hmm.add_transition(my_hmm.start, a_state, state_probs[a_tag_name])"
   ]
  },
  {
   "cell_type": "code",
   "execution_count": null,
   "id": "a8e49795",
   "metadata": {},
   "outputs": [],
   "source": [
    "# 전이 확률 P(S'|S) 설정.\n",
    "for a_col in transition_prob.columns:\n",
    "    for a_row in transition_prob.index:\n",
    "        a_prob = transition_prob.loc[a_row,a_col]\n",
    "        my_hmm.add_transition(my_states[a_col], my_states[a_row], a_prob) "
   ]
  },
  {
   "cell_type": "code",
   "execution_count": null,
   "id": "ea3836bd",
   "metadata": {},
   "outputs": [],
   "source": [
    "# 모델 최종 완성.\n",
    "my_hmm.bake()"
   ]
  },
  {
   "cell_type": "code",
   "execution_count": null,
   "id": "0475d818",
   "metadata": {},
   "outputs": [],
   "source": [
    "# 모델의 구조 출력.\n",
    "print(\"Edge counts: \",my_hmm.edge_count()) \n",
    "print(\"Node counts: \",my_hmm.node_count()) "
   ]
  },
  {
   "cell_type": "markdown",
   "id": "24204864",
   "metadata": {},
   "source": [
    "#### 4. 디코딩 (Inference):"
   ]
  },
  {
   "cell_type": "code",
   "execution_count": null,
   "id": "2e37b337",
   "metadata": {},
   "outputs": [],
   "source": [
    "# 다음과 같은 문자열이 관찰되었다고 전제한다.\n",
    "# 학습 데이터에 출현하는 단어들만을 사용해서 문장을 만들어 보았다.\n",
    "my_sentence = \"John Paul will meet Mary\"\n",
    "#my_sentence = \"Will will meet John Paul\"\n",
    "#my_sentence = \"Will will see Paul\""
   ]
  },
  {
   "cell_type": "code",
   "execution_count": null,
   "id": "45802123",
   "metadata": {},
   "outputs": [],
   "source": [
    "# 데이터 전처리.\n",
    "my_observations = [ a_word.lower() for a_word in my_sentence.split() ]"
   ]
  },
  {
   "cell_type": "code",
   "execution_count": null,
   "id": "a15ee8a0",
   "metadata": {},
   "outputs": [],
   "source": [
    "# Viterbi 알고리즘으로 가장 우도 (likelihood)가 높은 경로를 계산한다.\n",
    "viterbi_likelihood, viterbi_path = my_hmm.viterbi(my_observations)"
   ]
  },
  {
   "cell_type": "code",
   "execution_count": null,
   "id": "91cf10d8",
   "metadata": {},
   "outputs": [],
   "source": [
    "# 가장 유력한 tag 시퀀스 예측.\n",
    "tag_pred = []\n",
    "for s in viterbi_path[1:]:\n",
    "    tag_pred.append(s[1].name)"
   ]
  },
  {
   "cell_type": "code",
   "execution_count": null,
   "id": "3fac087c",
   "metadata": {},
   "outputs": [],
   "source": [
    "# POS tagging 실시.\n",
    "my_result = \" \".join( [ f\"{a_word}({a_tag})\" for a_word, a_tag in zip(my_sentence.split(), tag_pred) ] )"
   ]
  },
  {
   "cell_type": "code",
   "execution_count": null,
   "id": "a90fbd96",
   "metadata": {},
   "outputs": [],
   "source": [
    "# 결과 출력.\n",
    "print(\"POS tagging 결과 : {}\".format(my_result))\n",
    "print(\"우도 함수의 값   : {:0.6f}\".format(np.exp(viterbi_likelihood)))"
   ]
  },
  {
   "cell_type": "code",
   "execution_count": null,
   "id": "9aa71b58",
   "metadata": {},
   "outputs": [],
   "source": [
    "# NLTK의 태깅 결과와 비교한다.\n",
    "res = nltk.pos_tag(my_observations)\n",
    "print(\" \".join( [ f\"{a_word}({a_tag})\" for a_word, a_tag in res ] ))"
   ]
  },
  {
   "cell_type": "code",
   "execution_count": null,
   "id": "5690ff41",
   "metadata": {},
   "outputs": [],
   "source": []
  }
 ],
 "metadata": {
  "kernelspec": {
   "display_name": "Python 3",
   "language": "python",
   "name": "python3"
  },
  "language_info": {
   "codemirror_mode": {
    "name": "ipython",
    "version": 3
   },
   "file_extension": ".py",
   "mimetype": "text/x-python",
   "name": "python",
   "nbconvert_exporter": "python",
   "pygments_lexer": "ipython3",
   "version": "3.8.8"
  }
 },
 "nbformat": 4,
 "nbformat_minor": 5
}
